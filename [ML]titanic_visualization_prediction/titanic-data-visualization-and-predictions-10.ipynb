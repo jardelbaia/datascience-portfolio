{
 "cells": [
  {
   "cell_type": "markdown",
   "id": "british-treatment",
   "metadata": {
    "papermill": {
     "duration": 0.028553,
     "end_time": "2021-04-17T20:04:33.855341",
     "exception": false,
     "start_time": "2021-04-17T20:04:33.826788",
     "status": "completed"
    },
    "tags": []
   },
   "source": [
    "## Imports"
   ]
  },
  {
   "cell_type": "code",
   "execution_count": 1,
   "id": "macro-jefferson",
   "metadata": {
    "_cell_guid": "b1076dfc-b9ad-4769-8c92-a6c4dae69d19",
    "_uuid": "8f2839f25d086af736a60e9eeb907d3b93b6e0e5",
    "execution": {
     "iopub.execute_input": "2021-04-17T20:04:33.919587Z",
     "iopub.status.busy": "2021-04-17T20:04:33.918387Z",
     "iopub.status.idle": "2021-04-17T20:04:35.636480Z",
     "shell.execute_reply": "2021-04-17T20:04:35.637175Z"
    },
    "papermill": {
     "duration": 1.751782,
     "end_time": "2021-04-17T20:04:35.637474",
     "exception": false,
     "start_time": "2021-04-17T20:04:33.885692",
     "status": "completed"
    },
    "tags": []
   },
   "outputs": [],
   "source": [
    "import numpy as np\n",
    "import pandas as pd\n",
    "import seaborn as sns\n",
    "import matplotlib.pyplot as plt\n",
    "from sklearn.linear_model import LogisticRegression\n",
    "from sklearn.ensemble import RandomForestClassifier, GradientBoostingClassifier\n",
    "from sklearn.svm import LinearSVC\n",
    "from sklearn.model_selection import KFold,StratifiedKFold, cross_val_score,GridSearchCV\n",
    "import warnings\n",
    "warnings.filterwarnings('ignore')\n",
    "sns.set_style('white')"
   ]
  },
  {
   "cell_type": "markdown",
   "id": "invisible-investigator",
   "metadata": {
    "papermill": {
     "duration": 0.02923,
     "end_time": "2021-04-17T20:04:35.697214",
     "exception": false,
     "start_time": "2021-04-17T20:04:35.667984",
     "status": "completed"
    },
    "tags": []
   },
   "source": [
    "## Read data"
   ]
  },
  {
   "cell_type": "code",
   "execution_count": 2,
   "id": "personalized-exploration",
   "metadata": {
    "execution": {
     "iopub.execute_input": "2021-04-17T20:04:35.764638Z",
     "iopub.status.busy": "2021-04-17T20:04:35.763977Z",
     "iopub.status.idle": "2021-04-17T20:04:35.832455Z",
     "shell.execute_reply": "2021-04-17T20:04:35.831778Z"
    },
    "papermill": {
     "duration": 0.104894,
     "end_time": "2021-04-17T20:04:35.832620",
     "exception": false,
     "start_time": "2021-04-17T20:04:35.727726",
     "status": "completed"
    },
    "tags": []
   },
   "outputs": [
    {
     "data": {
      "text/html": [
       "<div>\n",
       "<style scoped>\n",
       "    .dataframe tbody tr th:only-of-type {\n",
       "        vertical-align: middle;\n",
       "    }\n",
       "\n",
       "    .dataframe tbody tr th {\n",
       "        vertical-align: top;\n",
       "    }\n",
       "\n",
       "    .dataframe thead th {\n",
       "        text-align: right;\n",
       "    }\n",
       "</style>\n",
       "<table border=\"1\" class=\"dataframe\">\n",
       "  <thead>\n",
       "    <tr style=\"text-align: right;\">\n",
       "      <th></th>\n",
       "      <th>PassengerId</th>\n",
       "      <th>Survived</th>\n",
       "      <th>Pclass</th>\n",
       "      <th>Name</th>\n",
       "      <th>Sex</th>\n",
       "      <th>Age</th>\n",
       "      <th>SibSp</th>\n",
       "      <th>Parch</th>\n",
       "      <th>Ticket</th>\n",
       "      <th>Fare</th>\n",
       "      <th>Cabin</th>\n",
       "      <th>Embarked</th>\n",
       "    </tr>\n",
       "  </thead>\n",
       "  <tbody>\n",
       "    <tr>\n",
       "      <th>0</th>\n",
       "      <td>1</td>\n",
       "      <td>0</td>\n",
       "      <td>3</td>\n",
       "      <td>Braund, Mr. Owen Harris</td>\n",
       "      <td>male</td>\n",
       "      <td>22.0</td>\n",
       "      <td>1</td>\n",
       "      <td>0</td>\n",
       "      <td>A/5 21171</td>\n",
       "      <td>7.2500</td>\n",
       "      <td>NaN</td>\n",
       "      <td>S</td>\n",
       "    </tr>\n",
       "    <tr>\n",
       "      <th>1</th>\n",
       "      <td>2</td>\n",
       "      <td>1</td>\n",
       "      <td>1</td>\n",
       "      <td>Cumings, Mrs. John Bradley (Florence Briggs Th...</td>\n",
       "      <td>female</td>\n",
       "      <td>38.0</td>\n",
       "      <td>1</td>\n",
       "      <td>0</td>\n",
       "      <td>PC 17599</td>\n",
       "      <td>71.2833</td>\n",
       "      <td>C85</td>\n",
       "      <td>C</td>\n",
       "    </tr>\n",
       "    <tr>\n",
       "      <th>2</th>\n",
       "      <td>3</td>\n",
       "      <td>1</td>\n",
       "      <td>3</td>\n",
       "      <td>Heikkinen, Miss. Laina</td>\n",
       "      <td>female</td>\n",
       "      <td>26.0</td>\n",
       "      <td>0</td>\n",
       "      <td>0</td>\n",
       "      <td>STON/O2. 3101282</td>\n",
       "      <td>7.9250</td>\n",
       "      <td>NaN</td>\n",
       "      <td>S</td>\n",
       "    </tr>\n",
       "    <tr>\n",
       "      <th>3</th>\n",
       "      <td>4</td>\n",
       "      <td>1</td>\n",
       "      <td>1</td>\n",
       "      <td>Futrelle, Mrs. Jacques Heath (Lily May Peel)</td>\n",
       "      <td>female</td>\n",
       "      <td>35.0</td>\n",
       "      <td>1</td>\n",
       "      <td>0</td>\n",
       "      <td>113803</td>\n",
       "      <td>53.1000</td>\n",
       "      <td>C123</td>\n",
       "      <td>S</td>\n",
       "    </tr>\n",
       "    <tr>\n",
       "      <th>4</th>\n",
       "      <td>5</td>\n",
       "      <td>0</td>\n",
       "      <td>3</td>\n",
       "      <td>Allen, Mr. William Henry</td>\n",
       "      <td>male</td>\n",
       "      <td>35.0</td>\n",
       "      <td>0</td>\n",
       "      <td>0</td>\n",
       "      <td>373450</td>\n",
       "      <td>8.0500</td>\n",
       "      <td>NaN</td>\n",
       "      <td>S</td>\n",
       "    </tr>\n",
       "  </tbody>\n",
       "</table>\n",
       "</div>"
      ],
      "text/plain": [
       "   PassengerId  Survived  Pclass  \\\n",
       "0            1         0       3   \n",
       "1            2         1       1   \n",
       "2            3         1       3   \n",
       "3            4         1       1   \n",
       "4            5         0       3   \n",
       "\n",
       "                                                Name     Sex   Age  SibSp  \\\n",
       "0                            Braund, Mr. Owen Harris    male  22.0      1   \n",
       "1  Cumings, Mrs. John Bradley (Florence Briggs Th...  female  38.0      1   \n",
       "2                             Heikkinen, Miss. Laina  female  26.0      0   \n",
       "3       Futrelle, Mrs. Jacques Heath (Lily May Peel)  female  35.0      1   \n",
       "4                           Allen, Mr. William Henry    male  35.0      0   \n",
       "\n",
       "   Parch            Ticket     Fare Cabin Embarked  \n",
       "0      0         A/5 21171   7.2500   NaN        S  \n",
       "1      0          PC 17599  71.2833   C85        C  \n",
       "2      0  STON/O2. 3101282   7.9250   NaN        S  \n",
       "3      0            113803  53.1000  C123        S  \n",
       "4      0            373450   8.0500   NaN        S  "
      ]
     },
     "execution_count": 2,
     "metadata": {},
     "output_type": "execute_result"
    }
   ],
   "source": [
    "train = pd.read_csv('../input/titanic/train.csv')\n",
    "test = pd.read_csv('../input/titanic/test.csv')\n",
    "train.head()"
   ]
  },
  {
   "cell_type": "code",
   "execution_count": 3,
   "id": "instrumental-index",
   "metadata": {
    "execution": {
     "iopub.execute_input": "2021-04-17T20:04:35.915416Z",
     "iopub.status.busy": "2021-04-17T20:04:35.909277Z",
     "iopub.status.idle": "2021-04-17T20:04:35.920536Z",
     "shell.execute_reply": "2021-04-17T20:04:35.919854Z"
    },
    "papermill": {
     "duration": 0.05746,
     "end_time": "2021-04-17T20:04:35.920706",
     "exception": false,
     "start_time": "2021-04-17T20:04:35.863246",
     "status": "completed"
    },
    "tags": []
   },
   "outputs": [
    {
     "name": "stdout",
     "output_type": "stream",
     "text": [
      "<class 'pandas.core.frame.DataFrame'>\n",
      "RangeIndex: 891 entries, 0 to 890\n",
      "Data columns (total 12 columns):\n",
      " #   Column       Non-Null Count  Dtype  \n",
      "---  ------       --------------  -----  \n",
      " 0   PassengerId  891 non-null    int64  \n",
      " 1   Survived     891 non-null    int64  \n",
      " 2   Pclass       891 non-null    int64  \n",
      " 3   Name         891 non-null    object \n",
      " 4   Sex          891 non-null    object \n",
      " 5   Age          714 non-null    float64\n",
      " 6   SibSp        891 non-null    int64  \n",
      " 7   Parch        891 non-null    int64  \n",
      " 8   Ticket       891 non-null    object \n",
      " 9   Fare         891 non-null    float64\n",
      " 10  Cabin        204 non-null    object \n",
      " 11  Embarked     889 non-null    object \n",
      "dtypes: float64(2), int64(5), object(5)\n",
      "memory usage: 83.7+ KB\n"
     ]
    }
   ],
   "source": [
    "train.info()"
   ]
  },
  {
   "cell_type": "code",
   "execution_count": 4,
   "id": "outside-april",
   "metadata": {
    "execution": {
     "iopub.execute_input": "2021-04-17T20:04:35.992922Z",
     "iopub.status.busy": "2021-04-17T20:04:35.992052Z",
     "iopub.status.idle": "2021-04-17T20:04:36.003282Z",
     "shell.execute_reply": "2021-04-17T20:04:36.002654Z"
    },
    "papermill": {
     "duration": 0.051746,
     "end_time": "2021-04-17T20:04:36.003446",
     "exception": false,
     "start_time": "2021-04-17T20:04:35.951700",
     "status": "completed"
    },
    "tags": []
   },
   "outputs": [
    {
     "name": "stdout",
     "output_type": "stream",
     "text": [
      "<class 'pandas.core.frame.DataFrame'>\n",
      "RangeIndex: 418 entries, 0 to 417\n",
      "Data columns (total 11 columns):\n",
      " #   Column       Non-Null Count  Dtype  \n",
      "---  ------       --------------  -----  \n",
      " 0   PassengerId  418 non-null    int64  \n",
      " 1   Pclass       418 non-null    int64  \n",
      " 2   Name         418 non-null    object \n",
      " 3   Sex          418 non-null    object \n",
      " 4   Age          332 non-null    float64\n",
      " 5   SibSp        418 non-null    int64  \n",
      " 6   Parch        418 non-null    int64  \n",
      " 7   Ticket       418 non-null    object \n",
      " 8   Fare         417 non-null    float64\n",
      " 9   Cabin        91 non-null     object \n",
      " 10  Embarked     418 non-null    object \n",
      "dtypes: float64(2), int64(4), object(5)\n",
      "memory usage: 36.0+ KB\n"
     ]
    }
   ],
   "source": [
    "test.info()"
   ]
  },
  {
   "cell_type": "code",
   "execution_count": 5,
   "id": "broadband-shower",
   "metadata": {
    "execution": {
     "iopub.execute_input": "2021-04-17T20:04:36.072016Z",
     "iopub.status.busy": "2021-04-17T20:04:36.071281Z",
     "iopub.status.idle": "2021-04-17T20:04:36.075339Z",
     "shell.execute_reply": "2021-04-17T20:04:36.075834Z"
    },
    "papermill": {
     "duration": 0.04112,
     "end_time": "2021-04-17T20:04:36.076016",
     "exception": false,
     "start_time": "2021-04-17T20:04:36.034896",
     "status": "completed"
    },
    "tags": []
   },
   "outputs": [],
   "source": [
    "colors = ['#D92938','#A60522','#273859','#071526']"
   ]
  },
  {
   "cell_type": "markdown",
   "id": "dried-artwork",
   "metadata": {
    "papermill": {
     "duration": 0.031664,
     "end_time": "2021-04-17T20:04:36.139003",
     "exception": false,
     "start_time": "2021-04-17T20:04:36.107339",
     "status": "completed"
    },
    "tags": []
   },
   "source": [
    "## Missing values"
   ]
  },
  {
   "cell_type": "code",
   "execution_count": 6,
   "id": "motivated-scholarship",
   "metadata": {
    "execution": {
     "iopub.execute_input": "2021-04-17T20:04:36.210990Z",
     "iopub.status.busy": "2021-04-17T20:04:36.208272Z",
     "iopub.status.idle": "2021-04-17T20:04:36.221585Z",
     "shell.execute_reply": "2021-04-17T20:04:36.222075Z"
    },
    "papermill": {
     "duration": 0.056387,
     "end_time": "2021-04-17T20:04:36.222253",
     "exception": false,
     "start_time": "2021-04-17T20:04:36.165866",
     "status": "completed"
    },
    "tags": []
   },
   "outputs": [
    {
     "name": "stdout",
     "output_type": "stream",
     "text": [
      "Train: \n",
      "Age 177\n",
      "Cabin 687\n",
      "Embarked 2\n",
      "\n",
      "Test:\n",
      "Age 86\n",
      "Fare 1\n",
      "Cabin 327\n"
     ]
    }
   ],
   "source": [
    "print(\"Train: \")\n",
    "for col in train.columns:\n",
    "    if train[col].isnull().values.any():\n",
    "        print(col, train[col].isnull().sum())\n",
    "      \n",
    "print(\"\\nTest:\")\n",
    "for col in test.columns:\n",
    "    if test[col].isnull().values.any():\n",
    "        print(col, test[col].isnull().sum())"
   ]
  },
  {
   "cell_type": "code",
   "execution_count": 7,
   "id": "under-pointer",
   "metadata": {
    "execution": {
     "iopub.execute_input": "2021-04-17T20:04:36.293961Z",
     "iopub.status.busy": "2021-04-17T20:04:36.293294Z",
     "iopub.status.idle": "2021-04-17T20:04:36.298789Z",
     "shell.execute_reply": "2021-04-17T20:04:36.299267Z"
    },
    "papermill": {
     "duration": 0.04436,
     "end_time": "2021-04-17T20:04:36.299439",
     "exception": false,
     "start_time": "2021-04-17T20:04:36.255079",
     "status": "completed"
    },
    "tags": []
   },
   "outputs": [],
   "source": [
    "#filling na values\n",
    "train['Cabin'] = train['Cabin'].fillna('U')\n",
    "test['Cabin'] = test['Cabin'].fillna('U')\n",
    "\n",
    "train['Age'] = train['Age'].fillna( np.mean(train['Age']) )\n",
    "test['Age'] = test['Age'].fillna( np.mean(test['Age']) )\n",
    "\n",
    "train['Fare'] = train['Fare'].fillna( np.mean(train['Fare']) )\n",
    "test['Fare'] = test['Fare'].fillna( np.mean(test['Fare']) )"
   ]
  },
  {
   "cell_type": "markdown",
   "id": "unavailable-greeting",
   "metadata": {
    "papermill": {
     "duration": 0.033124,
     "end_time": "2021-04-17T20:04:36.365826",
     "exception": false,
     "start_time": "2021-04-17T20:04:36.332702",
     "status": "completed"
    },
    "tags": []
   },
   "source": [
    "## EDA and some Feature Engineering"
   ]
  },
  {
   "cell_type": "markdown",
   "id": "south-melbourne",
   "metadata": {
    "papermill": {
     "duration": 0.033968,
     "end_time": "2021-04-17T20:04:36.433737",
     "exception": false,
     "start_time": "2021-04-17T20:04:36.399769",
     "status": "completed"
    },
    "tags": []
   },
   "source": [
    "Looking at the chart below, we can notice that we got a higher percentage of males on Titanic!"
   ]
  },
  {
   "cell_type": "code",
   "execution_count": 8,
   "id": "yellow-glance",
   "metadata": {
    "execution": {
     "iopub.execute_input": "2021-04-17T20:04:36.517617Z",
     "iopub.status.busy": "2021-04-17T20:04:36.511368Z",
     "iopub.status.idle": "2021-04-17T20:04:36.711191Z",
     "shell.execute_reply": "2021-04-17T20:04:36.710157Z"
    },
    "papermill": {
     "duration": 0.243736,
     "end_time": "2021-04-17T20:04:36.711334",
     "exception": false,
     "start_time": "2021-04-17T20:04:36.467598",
     "status": "completed"
    },
    "tags": []
   },
   "outputs": [
    {
     "data": {
      "text/plain": [
       "Text(0.5, 0, '')"
      ]
     },
     "execution_count": 8,
     "metadata": {},
     "output_type": "execute_result"
    },
    {
     "data": {
      "image/png": "[encoded data removed]",
      "text/plain": [
       "<Figure size 720x360 with 1 Axes>"
      ]
     },
     "metadata": {},
     "output_type": "display_data"
    }
   ],
   "source": [
    "plt.figure(figsize=(10,5))\n",
    "\n",
    "p = [train['Sex'].value_counts()[0]/sum(train['Sex'].value_counts())*100,\n",
    "     train['Sex'].value_counts()[1]/sum(train['Sex'].value_counts())*100]\n",
    "\n",
    "g=sns.barplot(x=p,y=['Male','Female'], palette=colors,orient = 'h')\n",
    "\n",
    "g.text(0, -0.7, 'Percentage of males and females on Titanic', \n",
    "       fontsize=14, fontweight='bold', fontfamily='Serif',color='black')\n",
    "\n",
    "for i in ['top', 'left', 'right', 'bottom']:\n",
    "    g.spines[i].set_visible(False)\n",
    "    \n",
    "for i in range(2):\n",
    "    g.annotate(f'{round(p[i])}%', \n",
    "                xy=(p[i]/2, i),\n",
    "                ha = 'center', va='center',fontsize=50, fontweight='bold', \n",
    "                fontfamily='Serif', color='white')\n",
    "    g.annotate('Male' if i==0 else 'Female', \n",
    "                xy=(p[i]/2, i+0.25),\n",
    "                ha = 'center', va='center',fontsize=16, fontweight='bold', \n",
    "                fontfamily='Serif', color='white')\n",
    "    \n",
    "g.set(xticklabels=[],yticklabels=[])\n",
    "plt.ylabel('')\n",
    "plt.xlabel('')"
   ]
  },
  {
   "cell_type": "code",
   "execution_count": 9,
   "id": "injured-mailman",
   "metadata": {
    "execution": {
     "iopub.execute_input": "2021-04-17T20:04:36.787227Z",
     "iopub.status.busy": "2021-04-17T20:04:36.786592Z",
     "iopub.status.idle": "2021-04-17T20:04:36.790118Z",
     "shell.execute_reply": "2021-04-17T20:04:36.790486Z"
    },
    "papermill": {
     "duration": 0.045566,
     "end_time": "2021-04-17T20:04:36.790668",
     "exception": false,
     "start_time": "2021-04-17T20:04:36.745102",
     "status": "completed"
    },
    "tags": []
   },
   "outputs": [],
   "source": [
    "#boolean column for sex\n",
    "train[\"bool_sex\"] = (train[\"Sex\"] == \"male\").astype(int)\n",
    "test[\"bool_sex\"] = (test[\"Sex\"] == \"male\").astype(int)"
   ]
  },
  {
   "cell_type": "markdown",
   "id": "technical-bookmark",
   "metadata": {
    "papermill": {
     "duration": 0.023355,
     "end_time": "2021-04-17T20:04:36.838365",
     "exception": false,
     "start_time": "2021-04-17T20:04:36.815010",
     "status": "completed"
    },
    "tags": []
   },
   "source": [
    "Unfortunately we got a higher percentage of people who not Survived!"
   ]
  },
  {
   "cell_type": "code",
   "execution_count": 10,
   "id": "protective-diving",
   "metadata": {
    "execution": {
     "iopub.execute_input": "2021-04-17T20:04:36.901221Z",
     "iopub.status.busy": "2021-04-17T20:04:36.900595Z",
     "iopub.status.idle": "2021-04-17T20:04:37.005762Z",
     "shell.execute_reply": "2021-04-17T20:04:37.005112Z"
    },
    "papermill": {
     "duration": 0.143882,
     "end_time": "2021-04-17T20:04:37.005909",
     "exception": false,
     "start_time": "2021-04-17T20:04:36.862027",
     "status": "completed"
    },
    "tags": []
   },
   "outputs": [
    {
     "data": {
      "text/plain": [
       "Text(0.5, 0, '')"
      ]
     },
     "execution_count": 10,
     "metadata": {},
     "output_type": "execute_result"
    },
    {
     "data": {
      "image/png": "[encoded data removed]",
      "text/plain": [
       "<Figure size 720x360 with 1 Axes>"
      ]
     },
     "metadata": {},
     "output_type": "display_data"
    }
   ],
   "source": [
    "plt.figure(figsize=(10,5))\n",
    "\n",
    "p = [train['Survived'].value_counts()[0]/sum(train['Survived'].value_counts())*100,\n",
    "     train['Survived'].value_counts()[1]/sum(train['Survived'].value_counts())*100]\n",
    "\n",
    "g = sns.barplot(x=p, y=['Survived','Not Survived'],palette=colors)\n",
    "\n",
    "g.text(0, -0.7, 'Percentage of survivors and victims on Titanic', \n",
    "       fontsize=14, fontweight='bold', fontfamily='Serif',color='black')\n",
    "\n",
    "for i in ['top', 'left', 'right', 'bottom']:\n",
    "    g.spines[i].set_visible(False)\n",
    "    \n",
    "for i in range(2):\n",
    "    g.annotate(f'{round(p[i])}%', \n",
    "                xy=(p[i]/2, i),\n",
    "                ha = 'center', va='center',fontsize=50, fontweight='bold', \n",
    "                fontfamily='Serif', color='white')\n",
    "    g.annotate('Survived' if i==0 else 'Not survived', \n",
    "                xy=(p[i]/2, i+0.25),\n",
    "                ha = 'center', va='center',fontsize=16, fontweight='bold', \n",
    "                fontfamily='Serif', color='white')\n",
    "    \n",
    "g.set(xticklabels=[],yticklabels=[])\n",
    "plt.ylabel('')\n",
    "plt.xlabel('')"
   ]
  },
  {
   "cell_type": "markdown",
   "id": "underlying-forwarding",
   "metadata": {
    "papermill": {
     "duration": 0.035847,
     "end_time": "2021-04-17T20:04:37.078332",
     "exception": false,
     "start_time": "2021-04-17T20:04:37.042485",
     "status": "completed"
    },
    "tags": []
   },
   "source": [
    "Clearly the sex of the passengers was crucial. The percentage of women surviving is much higher than that of men surviving, as we can see!"
   ]
  },
  {
   "cell_type": "code",
   "execution_count": 11,
   "id": "incorporate-tactics",
   "metadata": {
    "execution": {
     "iopub.execute_input": "2021-04-17T20:04:37.154918Z",
     "iopub.status.busy": "2021-04-17T20:04:37.154212Z",
     "iopub.status.idle": "2021-04-17T20:04:37.342446Z",
     "shell.execute_reply": "2021-04-17T20:04:37.343341Z"
    },
    "papermill": {
     "duration": 0.229126,
     "end_time": "2021-04-17T20:04:37.343617",
     "exception": false,
     "start_time": "2021-04-17T20:04:37.114491",
     "status": "completed"
    },
    "tags": []
   },
   "outputs": [
    {
     "data": {
      "text/plain": [
       "Text(0, 0.5, '')"
      ]
     },
     "execution_count": 11,
     "metadata": {},
     "output_type": "execute_result"
    },
    {
     "data": {
      "image/png": "[encoded data removed]",
      "text/plain": [
       "<Figure size 720x360 with 1 Axes>"
      ]
     },
     "metadata": {},
     "output_type": "display_data"
    }
   ],
   "source": [
    "fig, ax = plt.subplots(1,1, figsize=(10,5))\n",
    "\n",
    "d = train['Sex'].value_counts()\n",
    "d1 = train[ train['Sex'] == 'male' ]['Survived'].value_counts()\n",
    "d2 = train[ train['Sex'] == 'female' ]['Survived'].value_counts()\n",
    "\n",
    "g = plt.bar(d.index,d,label='Survived',color=colors[3])\n",
    "g1 = plt.bar(d.index, [d1[0],d2[0]],label='Not Survived',color=colors[1])\n",
    "\n",
    "ax.text(0, 700, 'Amount of survivors and victims by Sex ', \n",
    "       fontsize=14, fontweight='bold', fontfamily='Serif',color='black')\n",
    "\n",
    "for i in ['top', 'left', 'right']:\n",
    "    ax.spines[i].set_visible(False)\n",
    "    \n",
    "for i in g1.patches:\n",
    "    ax.text(i.get_x()+i.get_width()/2,\n",
    "           i.get_height()/2.5,\n",
    "           round(i.get_height()),\n",
    "           fontsize='18',\n",
    "           fontfamily='Serif',\n",
    "           color='white',va='center',ha='center')\n",
    "c=0\n",
    "for i in g.patches:\n",
    "    ax.text(i.get_x()+i.get_width()/2,\n",
    "           g1.patches[c].get_height()+(i.get_height()-g1.patches[c].get_height())/2.5,\n",
    "           round(i.get_height()-g1.patches[c].get_height()),\n",
    "           fontsize='18',\n",
    "           fontfamily='Serif',\n",
    "           color='white',va='center',ha='center')\n",
    "    c+=1\n",
    "    \n",
    "plt.legend(loc='upper right',prop={'size': 12, 'family': 'Serif'})\n",
    "ax.set(xticklabels=['Male','Female'],yticklabels=[])\n",
    "plt.xlabel('')\n",
    "plt.ylabel('')"
   ]
  },
  {
   "cell_type": "markdown",
   "id": "physical-sensitivity",
   "metadata": {
    "papermill": {
     "duration": 0.036418,
     "end_time": "2021-04-17T20:04:37.416521",
     "exception": false,
     "start_time": "2021-04-17T20:04:37.380103",
     "status": "completed"
    },
    "tags": []
   },
   "source": [
    "Looking at the next chart it's possible to notice that most passengers are adults up to 50 years. It sounds like a good idea stratify the ages in groups to get better visualizations and maybe help in our model."
   ]
  },
  {
   "cell_type": "code",
   "execution_count": 12,
   "id": "prescription-symbol",
   "metadata": {
    "execution": {
     "iopub.execute_input": "2021-04-17T20:04:37.494280Z",
     "iopub.status.busy": "2021-04-17T20:04:37.493640Z",
     "iopub.status.idle": "2021-04-17T20:04:37.818260Z",
     "shell.execute_reply": "2021-04-17T20:04:37.817599Z"
    },
    "papermill": {
     "duration": 0.364722,
     "end_time": "2021-04-17T20:04:37.818413",
     "exception": false,
     "start_time": "2021-04-17T20:04:37.453691",
     "status": "completed"
    },
    "tags": []
   },
   "outputs": [
    {
     "data": {
      "text/plain": [
       "Text(0, 0.5, '')"
      ]
     },
     "execution_count": 12,
     "metadata": {},
     "output_type": "execute_result"
    },
    {
     "data": {
      "image/png": "[encoded data removed]",
      "text/plain": [
       "<Figure size 720x360 with 1 Axes>"
      ]
     },
     "metadata": {},
     "output_type": "display_data"
    }
   ],
   "source": [
    "fig, ax = plt.subplots(1, figsize=(10,5))\n",
    "\n",
    "g=plt.hist(train['Age'],color=colors[3])\n",
    "\n",
    "ax.text(0, 430, 'Histogram of passengers age on Titanic', \n",
    "       fontsize=14, fontweight='bold', fontfamily='Serif',color='black')\n",
    "\n",
    "for i in ax.patches:\n",
    "    ax.text(i.get_x()+i.get_width()/2,\n",
    "           i.get_height()+6,\n",
    "           round(i.get_height()),\n",
    "           fontsize='13',\n",
    "           fontfamily='Serif',va='center',ha='center')\n",
    "    \n",
    "for i in ['top', 'right','left']:\n",
    "    ax.spines[i].set_visible(False)\n",
    "\n",
    "ax.set(yticklabels=[])\n",
    "plt.xlabel('')\n",
    "plt.ylabel('')"
   ]
  },
  {
   "cell_type": "code",
   "execution_count": 13,
   "id": "blessed-marshall",
   "metadata": {
    "execution": {
     "iopub.execute_input": "2021-04-17T20:04:37.905785Z",
     "iopub.status.busy": "2021-04-17T20:04:37.905107Z",
     "iopub.status.idle": "2021-04-17T20:04:37.939451Z",
     "shell.execute_reply": "2021-04-17T20:04:37.938590Z"
    },
    "papermill": {
     "duration": 0.08231,
     "end_time": "2021-04-17T20:04:37.939650",
     "exception": false,
     "start_time": "2021-04-17T20:04:37.857340",
     "status": "completed"
    },
    "tags": []
   },
   "outputs": [],
   "source": [
    "train['Child'] = (train['Age'] <= 12).astype(int)\n",
    "test['Child'] = (test['Age'] <= 12).astype(int)\n",
    "\n",
    "train['Young'] = train['Age'].apply(lambda x: x> 12 and x<=18).astype(int)\n",
    "test['Young'] = test['Age'].apply(lambda x: x> 12 and x<=18).astype(int)\n",
    "\n",
    "train['Adult'] = train['Age'].apply(lambda x: x> 18 and x<=55).astype(int)\n",
    "test['Adult'] = test['Age'].apply(lambda x: x> 18 and x<=55).astype(int)\n",
    "\n",
    "train['Old'] = train['Age'].apply(lambda x: x>55).astype(int)\n",
    "test['Old'] = test['Age'].apply(lambda x: x>55).astype(int)"
   ]
  },
  {
   "cell_type": "markdown",
   "id": "personal-flooring",
   "metadata": {
    "papermill": {
     "duration": 0.058207,
     "end_time": "2021-04-17T20:04:38.055441",
     "exception": false,
     "start_time": "2021-04-17T20:04:37.997234",
     "status": "completed"
    },
    "tags": []
   },
   "source": [
    "Looking again at the ages of our passengers, we can clearly see that we have a larger number of adults.\n",
    "\n"
   ]
  },
  {
   "cell_type": "code",
   "execution_count": 14,
   "id": "offensive-demographic",
   "metadata": {
    "execution": {
     "iopub.execute_input": "2021-04-17T20:04:38.174674Z",
     "iopub.status.busy": "2021-04-17T20:04:38.173789Z",
     "iopub.status.idle": "2021-04-17T20:04:38.349992Z",
     "shell.execute_reply": "2021-04-17T20:04:38.349228Z"
    },
    "papermill": {
     "duration": 0.23711,
     "end_time": "2021-04-17T20:04:38.350141",
     "exception": false,
     "start_time": "2021-04-17T20:04:38.113031",
     "status": "completed"
    },
    "tags": []
   },
   "outputs": [
    {
     "data": {
      "text/plain": [
       "Text(0.5, 0, '')"
      ]
     },
     "execution_count": 14,
     "metadata": {},
     "output_type": "execute_result"
    },
    {
     "data": {
      "image/png": "[encoded data removed]",
      "text/plain": [
       "<Figure size 720x360 with 1 Axes>"
      ]
     },
     "metadata": {},
     "output_type": "display_data"
    }
   ],
   "source": [
    "plt.figure(figsize=(10,5))\n",
    "\n",
    "g= sns.barplot(x=['Child','Young','Adult','Old'],\n",
    "               y=[sum(train['Child']),sum(train['Young']),\n",
    "               sum(train['Adult']),sum(train['Old'])],\n",
    "               palette=colors)\n",
    "\n",
    "g.text(0, 900,'Amount of passengers in each age group', \n",
    "       fontsize=14, fontweight='bold', fontfamily='Serif',color='black')\n",
    "\n",
    "for i in ['top', 'left', 'right']:\n",
    "    g.spines[i].set_visible(False)\n",
    "    \n",
    "for i in g.patches:\n",
    "    g.text(i.get_x()+i.get_width()/2,\n",
    "           i.get_height()+25,\n",
    "           round(i.get_height()),\n",
    "           fontsize='18',\n",
    "           fontfamily='Serif',va='center',ha='center')\n",
    "    \n",
    "g.set(yticklabels=[])\n",
    "plt.ylabel('')\n",
    "plt.xlabel('')"
   ]
  },
  {
   "cell_type": "markdown",
   "id": "obvious-adelaide",
   "metadata": {
    "papermill": {
     "duration": 0.039829,
     "end_time": "2021-04-17T20:04:38.430222",
     "exception": false,
     "start_time": "2021-04-17T20:04:38.390393",
     "status": "completed"
    },
    "tags": []
   },
   "source": [
    "In the fare histogram we see that the absolute majority of tickets cost less than $ 100. However, we have some tickets that have exceeded that amount.\n",
    "\n"
   ]
  },
  {
   "cell_type": "code",
   "execution_count": 15,
   "id": "realistic-shoot",
   "metadata": {
    "execution": {
     "iopub.execute_input": "2021-04-17T20:04:38.544857Z",
     "iopub.status.busy": "2021-04-17T20:04:38.519517Z",
     "iopub.status.idle": "2021-04-17T20:04:38.811744Z",
     "shell.execute_reply": "2021-04-17T20:04:38.810824Z"
    },
    "papermill": {
     "duration": 0.341806,
     "end_time": "2021-04-17T20:04:38.811894",
     "exception": false,
     "start_time": "2021-04-17T20:04:38.470088",
     "status": "completed"
    },
    "tags": []
   },
   "outputs": [
    {
     "data": {
      "text/plain": [
       "Text(0, 0.5, '')"
      ]
     },
     "execution_count": 15,
     "metadata": {},
     "output_type": "execute_result"
    },
    {
     "data": {
      "image/png": "[encoded data removed]",
      "text/plain": [
       "<Figure size 720x360 with 1 Axes>"
      ]
     },
     "metadata": {},
     "output_type": "display_data"
    }
   ],
   "source": [
    "fig, ax = plt.subplots(1, figsize=(10,5))\n",
    "\n",
    "g=plt.hist(train['Fare'], color=colors[3])\n",
    "\n",
    "ax.text(0, 850, 'Histogram of passengers fare on Titanic', \n",
    "       fontsize=14, fontweight='bold', fontfamily='Serif',color='black')\n",
    "\n",
    "for i in ax.patches:\n",
    "    ax.text(i.get_x()+i.get_width()/2,\n",
    "           i.get_height()+16,\n",
    "           round(i.get_height()),\n",
    "           fontsize='13',\n",
    "           fontfamily='Serif',va='center',ha='center')\n",
    "    \n",
    "for i in ['top', 'right','left']:\n",
    "    ax.spines[i].set_visible(False)\n",
    "\n",
    "ax.set(yticklabels=[])\n",
    "plt.xlabel('')\n",
    "plt.ylabel('')"
   ]
  },
  {
   "cell_type": "markdown",
   "id": "animated-laser",
   "metadata": {
    "papermill": {
     "duration": 0.041888,
     "end_time": "2021-04-17T20:04:38.896690",
     "exception": false,
     "start_time": "2021-04-17T20:04:38.854802",
     "status": "completed"
    },
    "tags": []
   },
   "source": [
    "Categorizing Fare column in >100 or not."
   ]
  },
  {
   "cell_type": "code",
   "execution_count": 16,
   "id": "nasty-narrative",
   "metadata": {
    "execution": {
     "iopub.execute_input": "2021-04-17T20:04:38.990350Z",
     "iopub.status.busy": "2021-04-17T20:04:38.989480Z",
     "iopub.status.idle": "2021-04-17T20:04:38.996506Z",
     "shell.execute_reply": "2021-04-17T20:04:38.995747Z"
    },
    "papermill": {
     "duration": 0.059505,
     "end_time": "2021-04-17T20:04:38.996756",
     "exception": false,
     "start_time": "2021-04-17T20:04:38.937251",
     "status": "completed"
    },
    "tags": []
   },
   "outputs": [],
   "source": [
    "train['cat_fare'] = train['Fare'].apply(lambda x: x>100)\n",
    "test['cat_fare'] = test['Fare'].apply(lambda x: x>100)"
   ]
  },
  {
   "cell_type": "markdown",
   "id": "agreed-journalism",
   "metadata": {
    "papermill": {
     "duration": 0.061016,
     "end_time": "2021-04-17T20:04:39.119017",
     "exception": false,
     "start_time": "2021-04-17T20:04:39.058001",
     "status": "completed"
    },
    "tags": []
   },
   "source": [
    "The data also tell us which port a particular passenger embarked on. In a chart that relates this information to the survived information, we realized that the only port in which the majority survived was port \"C\"."
   ]
  },
  {
   "cell_type": "code",
   "execution_count": 17,
   "id": "dental-pharmaceutical",
   "metadata": {
    "execution": {
     "iopub.execute_input": "2021-04-17T20:04:39.256429Z",
     "iopub.status.busy": "2021-04-17T20:04:39.253267Z",
     "iopub.status.idle": "2021-04-17T20:04:39.497746Z",
     "shell.execute_reply": "2021-04-17T20:04:39.496973Z"
    },
    "papermill": {
     "duration": 0.317607,
     "end_time": "2021-04-17T20:04:39.497930",
     "exception": false,
     "start_time": "2021-04-17T20:04:39.180323",
     "status": "completed"
    },
    "tags": []
   },
   "outputs": [
    {
     "data": {
      "text/plain": [
       "Text(0.5, 0, '')"
      ]
     },
     "execution_count": 17,
     "metadata": {},
     "output_type": "execute_result"
    },
    {
     "data": {
      "image/png": "[encoded data removed]",
      "text/plain": [
       "<Figure size 720x360 with 1 Axes>"
      ]
     },
     "metadata": {},
     "output_type": "display_data"
    }
   ],
   "source": [
    "plt.figure(figsize=(10,5))\n",
    "\n",
    "g=sns.countplot(train['Embarked'],hue=train['Survived'],palette=colors[1:])\n",
    "\n",
    "g.text(0, 550,'Amount of survivors and victims in each port', \n",
    "       fontsize=14, fontweight='bold', fontfamily='Serif',color='black')\n",
    "\n",
    "for i in ['top', 'left', 'right']:\n",
    "    g.spines[i].set_visible(False)\n",
    "    \n",
    "for i in g.patches:\n",
    "    g.text(i.get_x()+i.get_width()/2,\n",
    "           i.get_height()+16,\n",
    "           round(i.get_height()),\n",
    "           fontsize='18',\n",
    "           fontfamily='Serif',va='center',ha='center')\n",
    "    \n",
    "g.set(yticklabels=[])\n",
    "plt.legend(['Not Survived','Survived'],loc='upper right',prop={'size': 15, 'family': 'Serif'})\n",
    "plt.ylabel('')\n",
    "plt.xlabel('')"
   ]
  },
  {
   "cell_type": "markdown",
   "id": "agreed-amplifier",
   "metadata": {
    "papermill": {
     "duration": 0.063111,
     "end_time": "2021-04-17T20:04:39.624166",
     "exception": false,
     "start_time": "2021-04-17T20:04:39.561055",
     "status": "completed"
    },
    "tags": []
   },
   "source": [
    "New feature to use the embarked column information."
   ]
  },
  {
   "cell_type": "code",
   "execution_count": 18,
   "id": "confused-density",
   "metadata": {
    "execution": {
     "iopub.execute_input": "2021-04-17T20:04:39.760762Z",
     "iopub.status.busy": "2021-04-17T20:04:39.760064Z",
     "iopub.status.idle": "2021-04-17T20:04:39.763626Z",
     "shell.execute_reply": "2021-04-17T20:04:39.764089Z"
    },
    "papermill": {
     "duration": 0.076746,
     "end_time": "2021-04-17T20:04:39.764259",
     "exception": false,
     "start_time": "2021-04-17T20:04:39.687513",
     "status": "completed"
    },
    "tags": []
   },
   "outputs": [],
   "source": [
    "def emb_feature(x):\n",
    "    if x=='S':\n",
    "        return 0\n",
    "    elif x=='C':\n",
    "        return 1\n",
    "    else:\n",
    "        return 2\n",
    "train['emb'] = train['Embarked'].apply(emb_feature)\n",
    "test['emb'] = test['Embarked'].apply(emb_feature)\n"
   ]
  },
  {
   "cell_type": "markdown",
   "id": "durable-mississippi",
   "metadata": {
    "papermill": {
     "duration": 0.043326,
     "end_time": "2021-04-17T20:04:39.849880",
     "exception": false,
     "start_time": "2021-04-17T20:04:39.806554",
     "status": "completed"
    },
    "tags": []
   },
   "source": [
    "Looking at the Pclass column, most of the passengers in the first class survived, as we could imagine. The vast majority of passengers in the third class did not survive.\n",
    "\n"
   ]
  },
  {
   "cell_type": "code",
   "execution_count": 19,
   "id": "dress-wilderness",
   "metadata": {
    "execution": {
     "iopub.execute_input": "2021-04-17T20:04:39.948543Z",
     "iopub.status.busy": "2021-04-17T20:04:39.946429Z",
     "iopub.status.idle": "2021-04-17T20:04:40.133536Z",
     "shell.execute_reply": "2021-04-17T20:04:40.132966Z"
    },
    "papermill": {
     "duration": 0.241283,
     "end_time": "2021-04-17T20:04:40.133699",
     "exception": false,
     "start_time": "2021-04-17T20:04:39.892416",
     "status": "completed"
    },
    "tags": []
   },
   "outputs": [
    {
     "data": {
      "text/plain": [
       "Text(0.5, 0, '')"
      ]
     },
     "execution_count": 19,
     "metadata": {},
     "output_type": "execute_result"
    },
    {
     "data": {
      "image/png": "[encoded data removed]",
      "text/plain": [
       "<Figure size 720x360 with 1 Axes>"
      ]
     },
     "metadata": {},
     "output_type": "display_data"
    }
   ],
   "source": [
    "plt.figure(figsize=(10,5))\n",
    "\n",
    "g=sns.countplot(train['Pclass'],hue=train['Survived'],palette=colors[1:])\n",
    "\n",
    "\n",
    "g.text(0, 500,'Amount of survivors and victims in each class', \n",
    "       fontsize=14, fontweight='bold', fontfamily='Serif',color='black')\n",
    "\n",
    "for i in ['top', 'left', 'right']:\n",
    "    g.spines[i].set_visible(False)\n",
    "    \n",
    "for i in g.patches:\n",
    "    g.text(i.get_x()+i.get_width()/2,\n",
    "           i.get_height()+16,\n",
    "           round(i.get_height()),\n",
    "           fontsize='18',\n",
    "           fontfamily='Serif',va='center',ha='center')\n",
    "    \n",
    "plt.legend(['Not Survived','Survived'],loc='upper left',prop={'size': 15, 'family': 'Serif'})\n",
    "g.set(yticklabels=[])\n",
    "plt.ylabel('')\n",
    "plt.xlabel('')"
   ]
  },
  {
   "cell_type": "markdown",
   "id": "hearing-collectible",
   "metadata": {
    "papermill": {
     "duration": 0.044385,
     "end_time": "2021-04-17T20:04:40.222165",
     "exception": false,
     "start_time": "2021-04-17T20:04:40.177780",
     "status": "completed"
    },
    "tags": []
   },
   "source": [
    "Knowing \"sibsp\" column counts the number of siblings/spouses aboard the Titanic and \"parch\" counts the number of parents/children aboard the Titanic I will create a new column to define whether the passenger is boarding alone or not."
   ]
  },
  {
   "cell_type": "code",
   "execution_count": 20,
   "id": "ultimate-leone",
   "metadata": {
    "execution": {
     "iopub.execute_input": "2021-04-17T20:04:40.323283Z",
     "iopub.status.busy": "2021-04-17T20:04:40.322480Z",
     "iopub.status.idle": "2021-04-17T20:04:40.328429Z",
     "shell.execute_reply": "2021-04-17T20:04:40.327851Z"
    },
    "papermill": {
     "duration": 0.060969,
     "end_time": "2021-04-17T20:04:40.328593",
     "exception": false,
     "start_time": "2021-04-17T20:04:40.267624",
     "status": "completed"
    },
    "tags": []
   },
   "outputs": [],
   "source": [
    "train['is_alone'] = (train['SibSp']>0) | (train['Parch']>0)\n",
    "test['is_alone'] = (test['SibSp']>0) | (test['Parch']>0)\n",
    "\n",
    "train['fml_size'] = train['SibSp'] + train['Parch'] \n",
    "test['fml_size'] = test['SibSp'] + test['Parch'] "
   ]
  },
  {
   "cell_type": "markdown",
   "id": "buried-austria",
   "metadata": {
    "papermill": {
     "duration": 0.044624,
     "end_time": "2021-04-17T20:04:40.418054",
     "exception": false,
     "start_time": "2021-04-17T20:04:40.373430",
     "status": "completed"
    },
    "tags": []
   },
   "source": [
    "Now, we can see that our graph shows the information that passengers who were not alone died more than those who were."
   ]
  },
  {
   "cell_type": "code",
   "execution_count": 21,
   "id": "beginning-rogers",
   "metadata": {
    "execution": {
     "iopub.execute_input": "2021-04-17T20:04:40.638055Z",
     "iopub.status.busy": "2021-04-17T20:04:40.619591Z",
     "iopub.status.idle": "2021-04-17T20:04:40.785308Z",
     "shell.execute_reply": "2021-04-17T20:04:40.784770Z"
    },
    "papermill": {
     "duration": 0.322601,
     "end_time": "2021-04-17T20:04:40.785452",
     "exception": false,
     "start_time": "2021-04-17T20:04:40.462851",
     "status": "completed"
    },
    "tags": []
   },
   "outputs": [
    {
     "data": {
      "text/plain": [
       "Text(0, 0.5, '')"
      ]
     },
     "execution_count": 21,
     "metadata": {},
     "output_type": "execute_result"
    },
    {
     "data": {
      "image/png": "[encoded data removed]",
      "text/plain": [
       "<Figure size 720x360 with 1 Axes>"
      ]
     },
     "metadata": {},
     "output_type": "display_data"
    }
   ],
   "source": [
    "fig, ax = plt.subplots(1,1, figsize=(10,5))\n",
    "\n",
    "d = train['is_alone'].value_counts()\n",
    "d1 = train[ train['is_alone'] == 0 ]['Survived'].value_counts()\n",
    "d2 = train[ train['is_alone'] == 1 ]['Survived'].value_counts()\n",
    "\n",
    "d.index = ['Not alone', 'Alone']\n",
    "g = plt.bar(d.index,d,label='Survived',color=colors[3])\n",
    "g1 = plt.bar(d.index, [d1[0],d2[0]],label='Not Survived',color=colors[1])\n",
    "\n",
    "ax.text(-0.35, 700, 'Amount of survivors and victims for passengers alone and not alone', \n",
    "       fontsize=14, fontweight='bold', fontfamily='Serif',color='black')\n",
    "\n",
    "for i in ['top', 'left', 'right']:\n",
    "    ax.spines[i].set_visible(False)\n",
    "    \n",
    "for i in g1.patches:\n",
    "    ax.text(i.get_x()+i.get_width()/2,\n",
    "           i.get_height()/2.5,\n",
    "           round(i.get_height()),\n",
    "           fontsize='18',\n",
    "           fontfamily='Serif',\n",
    "           color='white',va='center',ha='center')\n",
    "c=0\n",
    "for i in g.patches:\n",
    "    ax.text(i.get_x()+i.get_width()/2,\n",
    "           g1.patches[c].get_height()+(i.get_height()-g1.patches[c].get_height())/2.5,\n",
    "           round(i.get_height()-g1.patches[c].get_height()),\n",
    "           fontsize='18',\n",
    "           fontfamily='Serif',\n",
    "           color='white',va='center',ha='center')\n",
    "    c+=1\n",
    "    \n",
    "plt.legend(loc='upper right',prop={'size': 12, 'family': 'Serif'})\n",
    "ax.set(yticklabels=[])\n",
    "plt.xlabel('')\n",
    "plt.ylabel('')"
   ]
  },
  {
   "cell_type": "markdown",
   "id": "complicated-throw",
   "metadata": {
    "papermill": {
     "duration": 0.045558,
     "end_time": "2021-04-17T20:04:40.876988",
     "exception": false,
     "start_time": "2021-04-17T20:04:40.831430",
     "status": "completed"
    },
    "tags": []
   },
   "source": [
    "## Validation\n"
   ]
  },
  {
   "cell_type": "code",
   "execution_count": 22,
   "id": "annoying-parliament",
   "metadata": {
    "execution": {
     "iopub.execute_input": "2021-04-17T20:04:40.981324Z",
     "iopub.status.busy": "2021-04-17T20:04:40.978065Z",
     "iopub.status.idle": "2021-04-17T20:04:42.358512Z",
     "shell.execute_reply": "2021-04-17T20:04:42.357808Z"
    },
    "papermill": {
     "duration": 1.435999,
     "end_time": "2021-04-17T20:04:42.358673",
     "exception": false,
     "start_time": "2021-04-17T20:04:40.922674",
     "status": "completed"
    },
    "tags": []
   },
   "outputs": [
    {
     "name": "stdout",
     "output_type": "stream",
     "text": [
      "Accuracy - Logistic Regression: 81.03%\n",
      "Expected accuracy - Model Logistic Regression: [74.19% ~ 87.88%]\n",
      "\n",
      "Accuracy - Linear SVC: 81.04%\n",
      "Expected accuracy - Model Linear SVC: [74.66% ~ 87.41%]\n",
      "\n",
      "Accuracy - Random Forest: 81.93%\n",
      "Expected accuracy - Model Random Forest: [75.15% ~ 88.71%]\n",
      "\n"
     ]
    }
   ],
   "source": [
    "cols = ['Pclass','bool_sex','Child','Young','Adult','Old',\n",
    "        'fml_size','is_alone','cat_fare','emb','SibSp','Parch']\n",
    "SEED = 30\n",
    "X = train[cols]\n",
    "y = train['Survived']\n",
    "\n",
    "cv = StratifiedKFold(n_splits=5, shuffle=True)\n",
    "\n",
    "models = [ LogisticRegression(), LinearSVC(), RandomForestClassifier()]\n",
    "m_name = ['Logistic Regression', 'Linear SVC', 'Random Forest']\n",
    "\n",
    "i=0\n",
    "for item in models:\n",
    "    np.random.seed(SEED)\n",
    "    results = cross_val_score(item, X, y, cv = cv,scoring = 'accuracy')\n",
    "    mean = results.mean()\n",
    "    dv = results.std()\n",
    "    print('Accuracy - {}: {:.2f}%'.format(m_name[i], mean*100))\n",
    "    print('Expected accuracy - Model {}: [{:.2f}% ~ {:.2f}%]\\n'.format(m_name[i],(mean - 2*dv)*100, (mean + 2*dv)*100))\n",
    "    i += 1"
   ]
  },
  {
   "cell_type": "markdown",
   "id": "intense-healing",
   "metadata": {
    "papermill": {
     "duration": 0.046692,
     "end_time": "2021-04-17T20:04:42.451381",
     "exception": false,
     "start_time": "2021-04-17T20:04:42.404689",
     "status": "completed"
    },
    "tags": []
   },
   "source": [
    "Random Forest is the best model in our validation. Now, we will do a hyperparameter tuning for the final model. \n",
    "\n",
    "This block of code is commented because this cell may take a little while to run (~30 minutes).\n",
    "\n",
    "\n",
    " \n",
    "\n"
   ]
  },
  {
   "cell_type": "code",
   "execution_count": 23,
   "id": "interpreted-tokyo",
   "metadata": {
    "execution": {
     "iopub.execute_input": "2021-04-17T20:04:42.549977Z",
     "iopub.status.busy": "2021-04-17T20:04:42.549271Z",
     "iopub.status.idle": "2021-04-17T20:04:42.553195Z",
     "shell.execute_reply": "2021-04-17T20:04:42.552685Z"
    },
    "papermill": {
     "duration": 0.055254,
     "end_time": "2021-04-17T20:04:42.553324",
     "exception": false,
     "start_time": "2021-04-17T20:04:42.498070",
     "status": "completed"
    },
    "tags": []
   },
   "outputs": [],
   "source": [
    "# param_grid = { \n",
    "#     \"criterion\" : [\"gini\", \"entropy\"], \n",
    "#     \"min_samples_leaf\" : [1, 5, 10, 25, 50, 70], \n",
    "#     \"min_samples_split\" : [2, 4, 10, 12, 16, 18, 25, 35], \n",
    "#     \"n_estimators\": [100, 400, 700, 1000, 1500]\n",
    "# }\n",
    "# CV_rfc = GridSearchCV(estimator=RandomForestClassifier(), \n",
    "#                       param_grid=param_grid, \n",
    "#                       cv= 5)\n",
    "# CV_rfc.fit(X, y)\n",
    "\n",
    "# CV_rfc.best_params_"
   ]
  },
  {
   "cell_type": "markdown",
   "id": "reflected-nutrition",
   "metadata": {
    "papermill": {
     "duration": 0.045933,
     "end_time": "2021-04-17T20:04:42.645472",
     "exception": false,
     "start_time": "2021-04-17T20:04:42.599539",
     "status": "completed"
    },
    "tags": []
   },
   "source": [
    "## Model"
   ]
  },
  {
   "cell_type": "code",
   "execution_count": 24,
   "id": "ordered-usage",
   "metadata": {
    "execution": {
     "iopub.execute_input": "2021-04-17T20:04:42.745839Z",
     "iopub.status.busy": "2021-04-17T20:04:42.744970Z",
     "iopub.status.idle": "2021-04-17T20:04:42.749025Z",
     "shell.execute_reply": "2021-04-17T20:04:42.748119Z"
    },
    "papermill": {
     "duration": 0.05727,
     "end_time": "2021-04-17T20:04:42.749200",
     "exception": false,
     "start_time": "2021-04-17T20:04:42.691930",
     "status": "completed"
    },
    "tags": []
   },
   "outputs": [],
   "source": [
    "cols = ['Pclass','bool_sex','Child','Young','Adult','Old',\n",
    "        'fml_size','is_alone','cat_fare','emb','SibSp','Parch']\n",
    "X = train[cols]\n",
    "y = train['Survived']"
   ]
  },
  {
   "cell_type": "markdown",
   "id": "innocent-sally",
   "metadata": {
    "papermill": {
     "duration": 0.070209,
     "end_time": "2021-04-17T20:04:42.889761",
     "exception": false,
     "start_time": "2021-04-17T20:04:42.819552",
     "status": "completed"
    },
    "tags": []
   },
   "source": [
    "Final model with tuned Random Forest Classifier."
   ]
  },
  {
   "cell_type": "code",
   "execution_count": 25,
   "id": "designed-greeting",
   "metadata": {
    "execution": {
     "iopub.execute_input": "2021-04-17T20:04:43.042509Z",
     "iopub.status.busy": "2021-04-17T20:04:43.037193Z",
     "iopub.status.idle": "2021-04-17T20:04:43.241461Z",
     "shell.execute_reply": "2021-04-17T20:04:43.240596Z"
    },
    "papermill": {
     "duration": 0.282884,
     "end_time": "2021-04-17T20:04:43.241670",
     "exception": false,
     "start_time": "2021-04-17T20:04:42.958786",
     "status": "completed"
    },
    "tags": []
   },
   "outputs": [],
   "source": [
    "model = RandomForestClassifier(\n",
    "     min_samples_leaf= 1,\n",
    "     min_samples_split= 4,\n",
    "     criterion= 'gini',\n",
    "     n_estimators= 100\n",
    ")\n",
    "model.fit(X,y)\n",
    "p = model.predict(test[cols])"
   ]
  },
  {
   "cell_type": "markdown",
   "id": "duplicate-identity",
   "metadata": {
    "papermill": {
     "duration": 0.070367,
     "end_time": "2021-04-17T20:04:43.385897",
     "exception": false,
     "start_time": "2021-04-17T20:04:43.315530",
     "status": "completed"
    },
    "tags": []
   },
   "source": [
    "Generating submission."
   ]
  },
  {
   "cell_type": "code",
   "execution_count": 26,
   "id": "alive-regression",
   "metadata": {
    "execution": {
     "iopub.execute_input": "2021-04-17T20:04:43.533932Z",
     "iopub.status.busy": "2021-04-17T20:04:43.532808Z",
     "iopub.status.idle": "2021-04-17T20:04:43.541813Z",
     "shell.execute_reply": "2021-04-17T20:04:43.541045Z"
    },
    "papermill": {
     "duration": 0.085974,
     "end_time": "2021-04-17T20:04:43.541983",
     "exception": false,
     "start_time": "2021-04-17T20:04:43.456009",
     "status": "completed"
    },
    "tags": []
   },
   "outputs": [],
   "source": [
    "sub = pd.Series(p,index=test['PassengerId'],name='Survived')\n",
    "sub.to_csv('submission.csv',header=True)"
   ]
  }
 ],
 "metadata": {
  "kernelspec": {
   "display_name": "Python 3",
   "language": "python",
   "name": "python3"
  },
  "language_info": {
   "codemirror_mode": {
    "name": "ipython",
    "version": 3
   },
   "file_extension": ".py",
   "mimetype": "text/x-python",
   "name": "python",
   "nbconvert_exporter": "python",
   "pygments_lexer": "ipython3",
   "version": "3.8.6"
  },
  "papermill": {
   "default_parameters": {},
   "duration": 17.606383,
   "end_time": "2021-04-17T20:04:44.323849",
   "environment_variables": {},
   "exception": null,
   "input_path": "__notebook__.ipynb",
   "output_path": "__notebook__.ipynb",
   "parameters": {},
   "start_time": "2021-04-17T20:04:26.717466",
   "version": "2.3.2"
  }
 },
 "nbformat": 4,
 "nbformat_minor": 5
}
