{
 "cells": [
  {
   "cell_type": "markdown",
   "metadata": {
    "papermill": {
     "duration": 0.016626,
     "end_time": "2021-03-25T22:26:07.432378",
     "exception": false,
     "start_time": "2021-03-25T22:26:07.415752",
     "status": "completed"
    },
    "tags": []
   },
   "source": [
    "## Imports"
   ]
  },
  {
   "cell_type": "code",
   "execution_count": 1,
   "metadata": {
    "_cell_guid": "b1076dfc-b9ad-4769-8c92-a6c4dae69d19",
    "_uuid": "8f2839f25d086af736a60e9eeb907d3b93b6e0e5",
    "execution": {
     "iopub.execute_input": "2021-03-25T22:26:07.470090Z",
     "iopub.status.busy": "2021-03-25T22:26:07.469441Z",
     "iopub.status.idle": "2021-03-25T22:26:08.649450Z",
     "shell.execute_reply": "2021-03-25T22:26:08.648603Z"
    },
    "papermill": {
     "duration": 1.200069,
     "end_time": "2021-03-25T22:26:08.649687",
     "exception": false,
     "start_time": "2021-03-25T22:26:07.449618",
     "status": "completed"
    },
    "tags": []
   },
   "outputs": [],
   "source": [
    "import numpy as np\n",
    "import pandas as pd\n",
    "import seaborn as sns\n",
    "import matplotlib.pyplot as plt\n",
    "import warnings\n",
    "warnings.filterwarnings('ignore')\n",
    "sns.set_style('white')"
   ]
  },
  {
   "cell_type": "markdown",
   "metadata": {
    "papermill": {
     "duration": 0.018089,
     "end_time": "2021-03-25T22:26:08.685344",
     "exception": false,
     "start_time": "2021-03-25T22:26:08.667255",
     "status": "completed"
    },
    "tags": []
   },
   "source": [
    "## Read Data"
   ]
  },
  {
   "cell_type": "code",
   "execution_count": 2,
   "metadata": {
    "execution": {
     "iopub.execute_input": "2021-03-25T22:26:08.729497Z",
     "iopub.status.busy": "2021-03-25T22:26:08.728686Z",
     "iopub.status.idle": "2021-03-25T22:26:08.833685Z",
     "shell.execute_reply": "2021-03-25T22:26:08.834359Z"
    },
    "papermill": {
     "duration": 0.126409,
     "end_time": "2021-03-25T22:26:08.834542",
     "exception": false,
     "start_time": "2021-03-25T22:26:08.708133",
     "status": "completed"
    },
    "tags": []
   },
   "outputs": [
    {
     "data": {
      "text/html": [
       "<div>\n",
       "<style scoped>\n",
       "    .dataframe tbody tr th:only-of-type {\n",
       "        vertical-align: middle;\n",
       "    }\n",
       "\n",
       "    .dataframe tbody tr th {\n",
       "        vertical-align: top;\n",
       "    }\n",
       "\n",
       "    .dataframe thead th {\n",
       "        text-align: right;\n",
       "    }\n",
       "</style>\n",
       "<table border=\"1\" class=\"dataframe\">\n",
       "  <thead>\n",
       "    <tr style=\"text-align: right;\">\n",
       "      <th></th>\n",
       "      <th>country</th>\n",
       "      <th>iso_code</th>\n",
       "      <th>date</th>\n",
       "      <th>total_vaccinations</th>\n",
       "      <th>people_vaccinated</th>\n",
       "      <th>people_fully_vaccinated</th>\n",
       "      <th>daily_vaccinations_raw</th>\n",
       "      <th>daily_vaccinations</th>\n",
       "      <th>total_vaccinations_per_hundred</th>\n",
       "      <th>people_vaccinated_per_hundred</th>\n",
       "      <th>people_fully_vaccinated_per_hundred</th>\n",
       "      <th>daily_vaccinations_per_million</th>\n",
       "      <th>vaccines</th>\n",
       "      <th>source_name</th>\n",
       "      <th>source_website</th>\n",
       "    </tr>\n",
       "  </thead>\n",
       "  <tbody>\n",
       "    <tr>\n",
       "      <th>0</th>\n",
       "      <td>Afghanistan</td>\n",
       "      <td>AFG</td>\n",
       "      <td>2021-02-22</td>\n",
       "      <td>0.0</td>\n",
       "      <td>0.0</td>\n",
       "      <td>NaN</td>\n",
       "      <td>NaN</td>\n",
       "      <td>NaN</td>\n",
       "      <td>0.0</td>\n",
       "      <td>0.0</td>\n",
       "      <td>NaN</td>\n",
       "      <td>NaN</td>\n",
       "      <td>Oxford/AstraZeneca</td>\n",
       "      <td>Government of Afghanistan</td>\n",
       "      <td>http://www.xinhuanet.com/english/asiapacific/2...</td>\n",
       "    </tr>\n",
       "    <tr>\n",
       "      <th>1</th>\n",
       "      <td>Afghanistan</td>\n",
       "      <td>AFG</td>\n",
       "      <td>2021-02-23</td>\n",
       "      <td>NaN</td>\n",
       "      <td>NaN</td>\n",
       "      <td>NaN</td>\n",
       "      <td>NaN</td>\n",
       "      <td>1367.0</td>\n",
       "      <td>NaN</td>\n",
       "      <td>NaN</td>\n",
       "      <td>NaN</td>\n",
       "      <td>35.0</td>\n",
       "      <td>Oxford/AstraZeneca</td>\n",
       "      <td>Government of Afghanistan</td>\n",
       "      <td>http://www.xinhuanet.com/english/asiapacific/2...</td>\n",
       "    </tr>\n",
       "    <tr>\n",
       "      <th>2</th>\n",
       "      <td>Afghanistan</td>\n",
       "      <td>AFG</td>\n",
       "      <td>2021-02-24</td>\n",
       "      <td>NaN</td>\n",
       "      <td>NaN</td>\n",
       "      <td>NaN</td>\n",
       "      <td>NaN</td>\n",
       "      <td>1367.0</td>\n",
       "      <td>NaN</td>\n",
       "      <td>NaN</td>\n",
       "      <td>NaN</td>\n",
       "      <td>35.0</td>\n",
       "      <td>Oxford/AstraZeneca</td>\n",
       "      <td>Government of Afghanistan</td>\n",
       "      <td>http://www.xinhuanet.com/english/asiapacific/2...</td>\n",
       "    </tr>\n",
       "    <tr>\n",
       "      <th>3</th>\n",
       "      <td>Afghanistan</td>\n",
       "      <td>AFG</td>\n",
       "      <td>2021-02-25</td>\n",
       "      <td>NaN</td>\n",
       "      <td>NaN</td>\n",
       "      <td>NaN</td>\n",
       "      <td>NaN</td>\n",
       "      <td>1367.0</td>\n",
       "      <td>NaN</td>\n",
       "      <td>NaN</td>\n",
       "      <td>NaN</td>\n",
       "      <td>35.0</td>\n",
       "      <td>Oxford/AstraZeneca</td>\n",
       "      <td>Government of Afghanistan</td>\n",
       "      <td>http://www.xinhuanet.com/english/asiapacific/2...</td>\n",
       "    </tr>\n",
       "    <tr>\n",
       "      <th>4</th>\n",
       "      <td>Afghanistan</td>\n",
       "      <td>AFG</td>\n",
       "      <td>2021-02-26</td>\n",
       "      <td>NaN</td>\n",
       "      <td>NaN</td>\n",
       "      <td>NaN</td>\n",
       "      <td>NaN</td>\n",
       "      <td>1367.0</td>\n",
       "      <td>NaN</td>\n",
       "      <td>NaN</td>\n",
       "      <td>NaN</td>\n",
       "      <td>35.0</td>\n",
       "      <td>Oxford/AstraZeneca</td>\n",
       "      <td>Government of Afghanistan</td>\n",
       "      <td>http://www.xinhuanet.com/english/asiapacific/2...</td>\n",
       "    </tr>\n",
       "  </tbody>\n",
       "</table>\n",
       "</div>"
      ],
      "text/plain": [
       "       country iso_code        date  total_vaccinations  people_vaccinated  \\\n",
       "0  Afghanistan      AFG  2021-02-22                 0.0                0.0   \n",
       "1  Afghanistan      AFG  2021-02-23                 NaN                NaN   \n",
       "2  Afghanistan      AFG  2021-02-24                 NaN                NaN   \n",
       "3  Afghanistan      AFG  2021-02-25                 NaN                NaN   \n",
       "4  Afghanistan      AFG  2021-02-26                 NaN                NaN   \n",
       "\n",
       "   people_fully_vaccinated  daily_vaccinations_raw  daily_vaccinations  \\\n",
       "0                      NaN                     NaN                 NaN   \n",
       "1                      NaN                     NaN              1367.0   \n",
       "2                      NaN                     NaN              1367.0   \n",
       "3                      NaN                     NaN              1367.0   \n",
       "4                      NaN                     NaN              1367.0   \n",
       "\n",
       "   total_vaccinations_per_hundred  people_vaccinated_per_hundred  \\\n",
       "0                             0.0                            0.0   \n",
       "1                             NaN                            NaN   \n",
       "2                             NaN                            NaN   \n",
       "3                             NaN                            NaN   \n",
       "4                             NaN                            NaN   \n",
       "\n",
       "   people_fully_vaccinated_per_hundred  daily_vaccinations_per_million  \\\n",
       "0                                  NaN                             NaN   \n",
       "1                                  NaN                            35.0   \n",
       "2                                  NaN                            35.0   \n",
       "3                                  NaN                            35.0   \n",
       "4                                  NaN                            35.0   \n",
       "\n",
       "             vaccines                source_name  \\\n",
       "0  Oxford/AstraZeneca  Government of Afghanistan   \n",
       "1  Oxford/AstraZeneca  Government of Afghanistan   \n",
       "2  Oxford/AstraZeneca  Government of Afghanistan   \n",
       "3  Oxford/AstraZeneca  Government of Afghanistan   \n",
       "4  Oxford/AstraZeneca  Government of Afghanistan   \n",
       "\n",
       "                                      source_website  \n",
       "0  http://www.xinhuanet.com/english/asiapacific/2...  \n",
       "1  http://www.xinhuanet.com/english/asiapacific/2...  \n",
       "2  http://www.xinhuanet.com/english/asiapacific/2...  \n",
       "3  http://www.xinhuanet.com/english/asiapacific/2...  \n",
       "4  http://www.xinhuanet.com/english/asiapacific/2...  "
      ]
     },
     "execution_count": 2,
     "metadata": {},
     "output_type": "execute_result"
    }
   ],
   "source": [
    "data = pd.read_csv('../input/covid-world-vaccination-progress/country_vaccinations.csv')\n",
    "data.head()"
   ]
  },
  {
   "cell_type": "code",
   "execution_count": 3,
   "metadata": {
    "execution": {
     "iopub.execute_input": "2021-03-25T22:26:08.874525Z",
     "iopub.status.busy": "2021-03-25T22:26:08.873849Z",
     "iopub.status.idle": "2021-03-25T22:26:08.900507Z",
     "shell.execute_reply": "2021-03-25T22:26:08.899968Z"
    },
    "papermill": {
     "duration": 0.04791,
     "end_time": "2021-03-25T22:26:08.900687",
     "exception": false,
     "start_time": "2021-03-25T22:26:08.852777",
     "status": "completed"
    },
    "tags": []
   },
   "outputs": [
    {
     "name": "stdout",
     "output_type": "stream",
     "text": [
      "<class 'pandas.core.frame.DataFrame'>\n",
      "RangeIndex: 7897 entries, 0 to 7896\n",
      "Data columns (total 15 columns):\n",
      " #   Column                               Non-Null Count  Dtype  \n",
      "---  ------                               --------------  -----  \n",
      " 0   country                              7897 non-null   object \n",
      " 1   iso_code                             7897 non-null   object \n",
      " 2   date                                 7897 non-null   object \n",
      " 3   total_vaccinations                   4889 non-null   float64\n",
      " 4   people_vaccinated                    4338 non-null   float64\n",
      " 5   people_fully_vaccinated              2961 non-null   float64\n",
      " 6   daily_vaccinations_raw               4112 non-null   float64\n",
      " 7   daily_vaccinations                   7709 non-null   float64\n",
      " 8   total_vaccinations_per_hundred       4889 non-null   float64\n",
      " 9   people_vaccinated_per_hundred        4338 non-null   float64\n",
      " 10  people_fully_vaccinated_per_hundred  2961 non-null   float64\n",
      " 11  daily_vaccinations_per_million       7709 non-null   float64\n",
      " 12  vaccines                             7897 non-null   object \n",
      " 13  source_name                          7897 non-null   object \n",
      " 14  source_website                       7897 non-null   object \n",
      "dtypes: float64(9), object(6)\n",
      "memory usage: 925.6+ KB\n"
     ]
    }
   ],
   "source": [
    "data.info()"
   ]
  },
  {
   "cell_type": "markdown",
   "metadata": {
    "papermill": {
     "duration": 0.01831,
     "end_time": "2021-03-25T22:26:08.938983",
     "exception": false,
     "start_time": "2021-03-25T22:26:08.920673",
     "status": "completed"
    },
    "tags": []
   },
   "source": [
    "### Some colors"
   ]
  },
  {
   "cell_type": "code",
   "execution_count": 4,
   "metadata": {
    "execution": {
     "iopub.execute_input": "2021-03-25T22:26:08.983811Z",
     "iopub.status.busy": "2021-03-25T22:26:08.983094Z",
     "iopub.status.idle": "2021-03-25T22:26:08.986413Z",
     "shell.execute_reply": "2021-03-25T22:26:08.985889Z"
    },
    "papermill": {
     "duration": 0.028008,
     "end_time": "2021-03-25T22:26:08.986569",
     "exception": false,
     "start_time": "2021-03-25T22:26:08.958561",
     "status": "completed"
    },
    "tags": []
   },
   "outputs": [],
   "source": [
    "india_palette = ['#ff9933','#138808','#000080']\n",
    "brazil_palette =['#009c3b','#ffdf00','#002776']"
   ]
  },
  {
   "cell_type": "markdown",
   "metadata": {
    "papermill": {
     "duration": 0.018081,
     "end_time": "2021-03-25T22:26:09.023470",
     "exception": false,
     "start_time": "2021-03-25T22:26:09.005389",
     "status": "completed"
    },
    "tags": []
   },
   "source": [
    "## Exploratory Data Analysis\n"
   ]
  },
  {
   "cell_type": "code",
   "execution_count": 5,
   "metadata": {
    "execution": {
     "iopub.execute_input": "2021-03-25T22:26:09.071216Z",
     "iopub.status.busy": "2021-03-25T22:26:09.066553Z",
     "iopub.status.idle": "2021-03-25T22:26:09.076081Z",
     "shell.execute_reply": "2021-03-25T22:26:09.075462Z"
    },
    "papermill": {
     "duration": 0.03428,
     "end_time": "2021-03-25T22:26:09.076237",
     "exception": false,
     "start_time": "2021-03-25T22:26:09.041957",
     "status": "completed"
    },
    "tags": []
   },
   "outputs": [],
   "source": [
    "data['date'] = pd.to_datetime(data['date'])"
   ]
  },
  {
   "cell_type": "markdown",
   "metadata": {
    "papermill": {
     "duration": 0.018439,
     "end_time": "2021-03-25T22:26:09.114827",
     "exception": false,
     "start_time": "2021-03-25T22:26:09.096388",
     "status": "completed"
    },
    "tags": []
   },
   "source": [
    "As we are going to use only Brazil and India countries, let's make new datasets with those countries."
   ]
  },
  {
   "cell_type": "code",
   "execution_count": 6,
   "metadata": {
    "execution": {
     "iopub.execute_input": "2021-03-25T22:26:09.162670Z",
     "iopub.status.busy": "2021-03-25T22:26:09.161875Z",
     "iopub.status.idle": "2021-03-25T22:26:09.166697Z",
     "shell.execute_reply": "2021-03-25T22:26:09.166067Z"
    },
    "papermill": {
     "duration": 0.033487,
     "end_time": "2021-03-25T22:26:09.166885",
     "exception": false,
     "start_time": "2021-03-25T22:26:09.133398",
     "status": "completed"
    },
    "tags": []
   },
   "outputs": [],
   "source": [
    "df_br = data[ data['country'] == 'Brazil' ]\n",
    "df_in = data[ data['country'] == 'India' ]"
   ]
  },
  {
   "cell_type": "code",
   "execution_count": 7,
   "metadata": {
    "execution": {
     "iopub.execute_input": "2021-03-25T22:26:09.231872Z",
     "iopub.status.busy": "2021-03-25T22:26:09.230874Z",
     "iopub.status.idle": "2021-03-25T22:26:09.236221Z",
     "shell.execute_reply": "2021-03-25T22:26:09.235663Z"
    },
    "papermill": {
     "duration": 0.050579,
     "end_time": "2021-03-25T22:26:09.236386",
     "exception": false,
     "start_time": "2021-03-25T22:26:09.185807",
     "status": "completed"
    },
    "tags": []
   },
   "outputs": [
    {
     "data": {
      "text/html": [
       "<div>\n",
       "<style scoped>\n",
       "    .dataframe tbody tr th:only-of-type {\n",
       "        vertical-align: middle;\n",
       "    }\n",
       "\n",
       "    .dataframe tbody tr th {\n",
       "        vertical-align: top;\n",
       "    }\n",
       "\n",
       "    .dataframe thead th {\n",
       "        text-align: right;\n",
       "    }\n",
       "</style>\n",
       "<table border=\"1\" class=\"dataframe\">\n",
       "  <thead>\n",
       "    <tr style=\"text-align: right;\">\n",
       "      <th></th>\n",
       "      <th>country</th>\n",
       "      <th>iso_code</th>\n",
       "      <th>date</th>\n",
       "      <th>total_vaccinations</th>\n",
       "      <th>people_vaccinated</th>\n",
       "      <th>people_fully_vaccinated</th>\n",
       "      <th>daily_vaccinations_raw</th>\n",
       "      <th>daily_vaccinations</th>\n",
       "      <th>total_vaccinations_per_hundred</th>\n",
       "      <th>people_vaccinated_per_hundred</th>\n",
       "      <th>people_fully_vaccinated_per_hundred</th>\n",
       "      <th>daily_vaccinations_per_million</th>\n",
       "      <th>vaccines</th>\n",
       "      <th>source_name</th>\n",
       "      <th>source_website</th>\n",
       "    </tr>\n",
       "  </thead>\n",
       "  <tbody>\n",
       "    <tr>\n",
       "      <th>1017</th>\n",
       "      <td>Brazil</td>\n",
       "      <td>BRA</td>\n",
       "      <td>2021-01-16</td>\n",
       "      <td>0.0</td>\n",
       "      <td>0.0</td>\n",
       "      <td>NaN</td>\n",
       "      <td>NaN</td>\n",
       "      <td>NaN</td>\n",
       "      <td>0.00</td>\n",
       "      <td>0.00</td>\n",
       "      <td>NaN</td>\n",
       "      <td>NaN</td>\n",
       "      <td>Oxford/AstraZeneca, Sinovac</td>\n",
       "      <td>Ministry of Health</td>\n",
       "      <td>https://viz.saude.gov.br/extensions/DEMAS_C19V...</td>\n",
       "    </tr>\n",
       "    <tr>\n",
       "      <th>1018</th>\n",
       "      <td>Brazil</td>\n",
       "      <td>BRA</td>\n",
       "      <td>2021-01-17</td>\n",
       "      <td>112.0</td>\n",
       "      <td>112.0</td>\n",
       "      <td>NaN</td>\n",
       "      <td>112.0</td>\n",
       "      <td>112.0</td>\n",
       "      <td>0.00</td>\n",
       "      <td>0.00</td>\n",
       "      <td>NaN</td>\n",
       "      <td>1.0</td>\n",
       "      <td>Oxford/AstraZeneca, Sinovac</td>\n",
       "      <td>Ministry of Health</td>\n",
       "      <td>https://viz.saude.gov.br/extensions/DEMAS_C19V...</td>\n",
       "    </tr>\n",
       "    <tr>\n",
       "      <th>1019</th>\n",
       "      <td>Brazil</td>\n",
       "      <td>BRA</td>\n",
       "      <td>2021-01-18</td>\n",
       "      <td>1109.0</td>\n",
       "      <td>1109.0</td>\n",
       "      <td>NaN</td>\n",
       "      <td>997.0</td>\n",
       "      <td>554.0</td>\n",
       "      <td>0.00</td>\n",
       "      <td>0.00</td>\n",
       "      <td>NaN</td>\n",
       "      <td>3.0</td>\n",
       "      <td>Oxford/AstraZeneca, Sinovac</td>\n",
       "      <td>Ministry of Health</td>\n",
       "      <td>https://viz.saude.gov.br/extensions/DEMAS_C19V...</td>\n",
       "    </tr>\n",
       "    <tr>\n",
       "      <th>1020</th>\n",
       "      <td>Brazil</td>\n",
       "      <td>BRA</td>\n",
       "      <td>2021-01-19</td>\n",
       "      <td>11470.0</td>\n",
       "      <td>11470.0</td>\n",
       "      <td>NaN</td>\n",
       "      <td>10361.0</td>\n",
       "      <td>3823.0</td>\n",
       "      <td>0.01</td>\n",
       "      <td>0.01</td>\n",
       "      <td>NaN</td>\n",
       "      <td>18.0</td>\n",
       "      <td>Oxford/AstraZeneca, Sinovac</td>\n",
       "      <td>Ministry of Health</td>\n",
       "      <td>https://viz.saude.gov.br/extensions/DEMAS_C19V...</td>\n",
       "    </tr>\n",
       "    <tr>\n",
       "      <th>1021</th>\n",
       "      <td>Brazil</td>\n",
       "      <td>BRA</td>\n",
       "      <td>2021-01-20</td>\n",
       "      <td>28543.0</td>\n",
       "      <td>28543.0</td>\n",
       "      <td>NaN</td>\n",
       "      <td>17073.0</td>\n",
       "      <td>7136.0</td>\n",
       "      <td>0.01</td>\n",
       "      <td>0.01</td>\n",
       "      <td>NaN</td>\n",
       "      <td>34.0</td>\n",
       "      <td>Oxford/AstraZeneca, Sinovac</td>\n",
       "      <td>Ministry of Health</td>\n",
       "      <td>https://viz.saude.gov.br/extensions/DEMAS_C19V...</td>\n",
       "    </tr>\n",
       "  </tbody>\n",
       "</table>\n",
       "</div>"
      ],
      "text/plain": [
       "     country iso_code       date  total_vaccinations  people_vaccinated  \\\n",
       "1017  Brazil      BRA 2021-01-16                 0.0                0.0   \n",
       "1018  Brazil      BRA 2021-01-17               112.0              112.0   \n",
       "1019  Brazil      BRA 2021-01-18              1109.0             1109.0   \n",
       "1020  Brazil      BRA 2021-01-19             11470.0            11470.0   \n",
       "1021  Brazil      BRA 2021-01-20             28543.0            28543.0   \n",
       "\n",
       "      people_fully_vaccinated  daily_vaccinations_raw  daily_vaccinations  \\\n",
       "1017                      NaN                     NaN                 NaN   \n",
       "1018                      NaN                   112.0               112.0   \n",
       "1019                      NaN                   997.0               554.0   \n",
       "1020                      NaN                 10361.0              3823.0   \n",
       "1021                      NaN                 17073.0              7136.0   \n",
       "\n",
       "      total_vaccinations_per_hundred  people_vaccinated_per_hundred  \\\n",
       "1017                            0.00                           0.00   \n",
       "1018                            0.00                           0.00   \n",
       "1019                            0.00                           0.00   \n",
       "1020                            0.01                           0.01   \n",
       "1021                            0.01                           0.01   \n",
       "\n",
       "      people_fully_vaccinated_per_hundred  daily_vaccinations_per_million  \\\n",
       "1017                                  NaN                             NaN   \n",
       "1018                                  NaN                             1.0   \n",
       "1019                                  NaN                             3.0   \n",
       "1020                                  NaN                            18.0   \n",
       "1021                                  NaN                            34.0   \n",
       "\n",
       "                         vaccines         source_name  \\\n",
       "1017  Oxford/AstraZeneca, Sinovac  Ministry of Health   \n",
       "1018  Oxford/AstraZeneca, Sinovac  Ministry of Health   \n",
       "1019  Oxford/AstraZeneca, Sinovac  Ministry of Health   \n",
       "1020  Oxford/AstraZeneca, Sinovac  Ministry of Health   \n",
       "1021  Oxford/AstraZeneca, Sinovac  Ministry of Health   \n",
       "\n",
       "                                         source_website  \n",
       "1017  https://viz.saude.gov.br/extensions/DEMAS_C19V...  \n",
       "1018  https://viz.saude.gov.br/extensions/DEMAS_C19V...  \n",
       "1019  https://viz.saude.gov.br/extensions/DEMAS_C19V...  \n",
       "1020  https://viz.saude.gov.br/extensions/DEMAS_C19V...  \n",
       "1021  https://viz.saude.gov.br/extensions/DEMAS_C19V...  "
      ]
     },
     "execution_count": 7,
     "metadata": {},
     "output_type": "execute_result"
    }
   ],
   "source": [
    "df_br.head()"
   ]
  },
  {
   "cell_type": "code",
   "execution_count": 8,
   "metadata": {
    "execution": {
     "iopub.execute_input": "2021-03-25T22:26:09.302462Z",
     "iopub.status.busy": "2021-03-25T22:26:09.298326Z",
     "iopub.status.idle": "2021-03-25T22:26:09.307460Z",
     "shell.execute_reply": "2021-03-25T22:26:09.306777Z"
    },
    "papermill": {
     "duration": 0.051419,
     "end_time": "2021-03-25T22:26:09.307614",
     "exception": false,
     "start_time": "2021-03-25T22:26:09.256195",
     "status": "completed"
    },
    "tags": []
   },
   "outputs": [
    {
     "data": {
      "text/html": [
       "<div>\n",
       "<style scoped>\n",
       "    .dataframe tbody tr th:only-of-type {\n",
       "        vertical-align: middle;\n",
       "    }\n",
       "\n",
       "    .dataframe tbody tr th {\n",
       "        vertical-align: top;\n",
       "    }\n",
       "\n",
       "    .dataframe thead th {\n",
       "        text-align: right;\n",
       "    }\n",
       "</style>\n",
       "<table border=\"1\" class=\"dataframe\">\n",
       "  <thead>\n",
       "    <tr style=\"text-align: right;\">\n",
       "      <th></th>\n",
       "      <th>country</th>\n",
       "      <th>iso_code</th>\n",
       "      <th>date</th>\n",
       "      <th>total_vaccinations</th>\n",
       "      <th>people_vaccinated</th>\n",
       "      <th>people_fully_vaccinated</th>\n",
       "      <th>daily_vaccinations_raw</th>\n",
       "      <th>daily_vaccinations</th>\n",
       "      <th>total_vaccinations_per_hundred</th>\n",
       "      <th>people_vaccinated_per_hundred</th>\n",
       "      <th>people_fully_vaccinated_per_hundred</th>\n",
       "      <th>daily_vaccinations_per_million</th>\n",
       "      <th>vaccines</th>\n",
       "      <th>source_name</th>\n",
       "      <th>source_website</th>\n",
       "    </tr>\n",
       "  </thead>\n",
       "  <tbody>\n",
       "    <tr>\n",
       "      <th>3320</th>\n",
       "      <td>India</td>\n",
       "      <td>IND</td>\n",
       "      <td>2021-01-15</td>\n",
       "      <td>0.0</td>\n",
       "      <td>0.0</td>\n",
       "      <td>NaN</td>\n",
       "      <td>NaN</td>\n",
       "      <td>NaN</td>\n",
       "      <td>0.00</td>\n",
       "      <td>0.00</td>\n",
       "      <td>NaN</td>\n",
       "      <td>NaN</td>\n",
       "      <td>Covaxin, Oxford/AstraZeneca</td>\n",
       "      <td>Ministry of Health</td>\n",
       "      <td>http://mohfw.gov.in/pdf/CumulativeCOVIDVaccina...</td>\n",
       "    </tr>\n",
       "    <tr>\n",
       "      <th>3321</th>\n",
       "      <td>India</td>\n",
       "      <td>IND</td>\n",
       "      <td>2021-01-16</td>\n",
       "      <td>191181.0</td>\n",
       "      <td>191181.0</td>\n",
       "      <td>NaN</td>\n",
       "      <td>191181.0</td>\n",
       "      <td>191181.0</td>\n",
       "      <td>0.01</td>\n",
       "      <td>0.01</td>\n",
       "      <td>NaN</td>\n",
       "      <td>139.0</td>\n",
       "      <td>Covaxin, Oxford/AstraZeneca</td>\n",
       "      <td>Ministry of Health</td>\n",
       "      <td>http://mohfw.gov.in/pdf/CumulativeCOVIDVaccina...</td>\n",
       "    </tr>\n",
       "    <tr>\n",
       "      <th>3322</th>\n",
       "      <td>India</td>\n",
       "      <td>IND</td>\n",
       "      <td>2021-01-17</td>\n",
       "      <td>224301.0</td>\n",
       "      <td>224301.0</td>\n",
       "      <td>NaN</td>\n",
       "      <td>33120.0</td>\n",
       "      <td>112150.0</td>\n",
       "      <td>0.02</td>\n",
       "      <td>0.02</td>\n",
       "      <td>NaN</td>\n",
       "      <td>81.0</td>\n",
       "      <td>Covaxin, Oxford/AstraZeneca</td>\n",
       "      <td>Ministry of Health</td>\n",
       "      <td>http://mohfw.gov.in/pdf/CumulativeCOVIDVaccina...</td>\n",
       "    </tr>\n",
       "    <tr>\n",
       "      <th>3323</th>\n",
       "      <td>India</td>\n",
       "      <td>IND</td>\n",
       "      <td>2021-01-18</td>\n",
       "      <td>454049.0</td>\n",
       "      <td>454049.0</td>\n",
       "      <td>NaN</td>\n",
       "      <td>229748.0</td>\n",
       "      <td>151350.0</td>\n",
       "      <td>0.03</td>\n",
       "      <td>0.03</td>\n",
       "      <td>NaN</td>\n",
       "      <td>110.0</td>\n",
       "      <td>Covaxin, Oxford/AstraZeneca</td>\n",
       "      <td>Ministry of Health</td>\n",
       "      <td>http://mohfw.gov.in/pdf/CumulativeCOVIDVaccina...</td>\n",
       "    </tr>\n",
       "    <tr>\n",
       "      <th>3324</th>\n",
       "      <td>India</td>\n",
       "      <td>IND</td>\n",
       "      <td>2021-01-19</td>\n",
       "      <td>674835.0</td>\n",
       "      <td>674835.0</td>\n",
       "      <td>NaN</td>\n",
       "      <td>220786.0</td>\n",
       "      <td>168709.0</td>\n",
       "      <td>0.05</td>\n",
       "      <td>0.05</td>\n",
       "      <td>NaN</td>\n",
       "      <td>122.0</td>\n",
       "      <td>Covaxin, Oxford/AstraZeneca</td>\n",
       "      <td>Ministry of Health</td>\n",
       "      <td>http://mohfw.gov.in/pdf/CumulativeCOVIDVaccina...</td>\n",
       "    </tr>\n",
       "  </tbody>\n",
       "</table>\n",
       "</div>"
      ],
      "text/plain": [
       "     country iso_code       date  total_vaccinations  people_vaccinated  \\\n",
       "3320   India      IND 2021-01-15                 0.0                0.0   \n",
       "3321   India      IND 2021-01-16            191181.0           191181.0   \n",
       "3322   India      IND 2021-01-17            224301.0           224301.0   \n",
       "3323   India      IND 2021-01-18            454049.0           454049.0   \n",
       "3324   India      IND 2021-01-19            674835.0           674835.0   \n",
       "\n",
       "      people_fully_vaccinated  daily_vaccinations_raw  daily_vaccinations  \\\n",
       "3320                      NaN                     NaN                 NaN   \n",
       "3321                      NaN                191181.0            191181.0   \n",
       "3322                      NaN                 33120.0            112150.0   \n",
       "3323                      NaN                229748.0            151350.0   \n",
       "3324                      NaN                220786.0            168709.0   \n",
       "\n",
       "      total_vaccinations_per_hundred  people_vaccinated_per_hundred  \\\n",
       "3320                            0.00                           0.00   \n",
       "3321                            0.01                           0.01   \n",
       "3322                            0.02                           0.02   \n",
       "3323                            0.03                           0.03   \n",
       "3324                            0.05                           0.05   \n",
       "\n",
       "      people_fully_vaccinated_per_hundred  daily_vaccinations_per_million  \\\n",
       "3320                                  NaN                             NaN   \n",
       "3321                                  NaN                           139.0   \n",
       "3322                                  NaN                            81.0   \n",
       "3323                                  NaN                           110.0   \n",
       "3324                                  NaN                           122.0   \n",
       "\n",
       "                         vaccines         source_name  \\\n",
       "3320  Covaxin, Oxford/AstraZeneca  Ministry of Health   \n",
       "3321  Covaxin, Oxford/AstraZeneca  Ministry of Health   \n",
       "3322  Covaxin, Oxford/AstraZeneca  Ministry of Health   \n",
       "3323  Covaxin, Oxford/AstraZeneca  Ministry of Health   \n",
       "3324  Covaxin, Oxford/AstraZeneca  Ministry of Health   \n",
       "\n",
       "                                         source_website  \n",
       "3320  http://mohfw.gov.in/pdf/CumulativeCOVIDVaccina...  \n",
       "3321  http://mohfw.gov.in/pdf/CumulativeCOVIDVaccina...  \n",
       "3322  http://mohfw.gov.in/pdf/CumulativeCOVIDVaccina...  \n",
       "3323  http://mohfw.gov.in/pdf/CumulativeCOVIDVaccina...  \n",
       "3324  http://mohfw.gov.in/pdf/CumulativeCOVIDVaccina...  "
      ]
     },
     "execution_count": 8,
     "metadata": {},
     "output_type": "execute_result"
    }
   ],
   "source": [
    "df_in.head()"
   ]
  },
  {
   "cell_type": "code",
   "execution_count": 9,
   "metadata": {
    "execution": {
     "iopub.execute_input": "2021-03-25T22:26:09.359020Z",
     "iopub.status.busy": "2021-03-25T22:26:09.358245Z",
     "iopub.status.idle": "2021-03-25T22:26:09.362410Z",
     "shell.execute_reply": "2021-03-25T22:26:09.361894Z"
    },
    "papermill": {
     "duration": 0.034396,
     "end_time": "2021-03-25T22:26:09.362560",
     "exception": false,
     "start_time": "2021-03-25T22:26:09.328164",
     "status": "completed"
    },
    "tags": []
   },
   "outputs": [
    {
     "data": {
      "text/plain": [
       "country                                 0\n",
       "iso_code                                0\n",
       "date                                    0\n",
       "total_vaccinations                      5\n",
       "people_vaccinated                       5\n",
       "people_fully_vaccinated                26\n",
       "daily_vaccinations_raw                  8\n",
       "daily_vaccinations                      1\n",
       "total_vaccinations_per_hundred          5\n",
       "people_vaccinated_per_hundred           5\n",
       "people_fully_vaccinated_per_hundred    26\n",
       "daily_vaccinations_per_million          1\n",
       "vaccines                                0\n",
       "source_name                             0\n",
       "source_website                          0\n",
       "dtype: int64"
      ]
     },
     "execution_count": 9,
     "metadata": {},
     "output_type": "execute_result"
    }
   ],
   "source": [
    "df_br.isnull().sum()"
   ]
  },
  {
   "cell_type": "code",
   "execution_count": 10,
   "metadata": {
    "execution": {
     "iopub.execute_input": "2021-03-25T22:26:09.414176Z",
     "iopub.status.busy": "2021-03-25T22:26:09.413308Z",
     "iopub.status.idle": "2021-03-25T22:26:09.416878Z",
     "shell.execute_reply": "2021-03-25T22:26:09.417347Z"
    },
    "papermill": {
     "duration": 0.033983,
     "end_time": "2021-03-25T22:26:09.417534",
     "exception": false,
     "start_time": "2021-03-25T22:26:09.383551",
     "status": "completed"
    },
    "tags": []
   },
   "outputs": [
    {
     "data": {
      "text/plain": [
       "country                                 0\n",
       "iso_code                                0\n",
       "date                                    0\n",
       "total_vaccinations                      1\n",
       "people_vaccinated                       1\n",
       "people_fully_vaccinated                30\n",
       "daily_vaccinations_raw                  3\n",
       "daily_vaccinations                      1\n",
       "total_vaccinations_per_hundred          1\n",
       "people_vaccinated_per_hundred           1\n",
       "people_fully_vaccinated_per_hundred    30\n",
       "daily_vaccinations_per_million          1\n",
       "vaccines                                0\n",
       "source_name                             0\n",
       "source_website                          0\n",
       "dtype: int64"
      ]
     },
     "execution_count": 10,
     "metadata": {},
     "output_type": "execute_result"
    }
   ],
   "source": [
    "df_in.isnull().sum()"
   ]
  },
  {
   "cell_type": "markdown",
   "metadata": {
    "papermill": {
     "duration": 0.021013,
     "end_time": "2021-03-25T22:26:09.460205",
     "exception": false,
     "start_time": "2021-03-25T22:26:09.439192",
     "status": "completed"
    },
    "tags": []
   },
   "source": [
    "We have some missing data here. Before starting our analysis, I'll deal with some of those values.\n",
    "\n",
    "I'm going to drop rows where total_vaccinations_per_hundred is null."
   ]
  },
  {
   "cell_type": "code",
   "execution_count": 11,
   "metadata": {
    "execution": {
     "iopub.execute_input": "2021-03-25T22:26:09.506846Z",
     "iopub.status.busy": "2021-03-25T22:26:09.506157Z",
     "iopub.status.idle": "2021-03-25T22:26:09.512518Z",
     "shell.execute_reply": "2021-03-25T22:26:09.513043Z"
    },
    "papermill": {
     "duration": 0.031691,
     "end_time": "2021-03-25T22:26:09.513259",
     "exception": false,
     "start_time": "2021-03-25T22:26:09.481568",
     "status": "completed"
    },
    "tags": []
   },
   "outputs": [],
   "source": [
    "df_br = df_br[df_br['total_vaccinations_per_hundred'].notna()]\n",
    "df_in = df_in[df_in['total_vaccinations_per_hundred'].notna()]\n"
   ]
  },
  {
   "cell_type": "markdown",
   "metadata": {
    "papermill": {
     "duration": 0.020874,
     "end_time": "2021-03-25T22:26:09.555529",
     "exception": false,
     "start_time": "2021-03-25T22:26:09.534655",
     "status": "completed"
    },
    "tags": []
   },
   "source": [
    "As we can see below, both Brazil and India uses **Oxford/AstraZeneca** vaccine. Brazil also uses **Sinovac** and India also uses **AstraZeneca**."
   ]
  },
  {
   "cell_type": "code",
   "execution_count": 12,
   "metadata": {
    "execution": {
     "iopub.execute_input": "2021-03-25T22:26:09.602517Z",
     "iopub.status.busy": "2021-03-25T22:26:09.601774Z",
     "iopub.status.idle": "2021-03-25T22:26:09.612496Z",
     "shell.execute_reply": "2021-03-25T22:26:09.612976Z"
    },
    "papermill": {
     "duration": 0.03616,
     "end_time": "2021-03-25T22:26:09.613170",
     "exception": false,
     "start_time": "2021-03-25T22:26:09.577010",
     "status": "completed"
    },
    "tags": []
   },
   "outputs": [
    {
     "data": {
      "text/html": [
       "<div>\n",
       "<style scoped>\n",
       "    .dataframe tbody tr th:only-of-type {\n",
       "        vertical-align: middle;\n",
       "    }\n",
       "\n",
       "    .dataframe tbody tr th {\n",
       "        vertical-align: top;\n",
       "    }\n",
       "\n",
       "    .dataframe thead th {\n",
       "        text-align: right;\n",
       "    }\n",
       "</style>\n",
       "<table border=\"1\" class=\"dataframe\">\n",
       "  <thead>\n",
       "    <tr style=\"text-align: right;\">\n",
       "      <th></th>\n",
       "      <th>Vaccine</th>\n",
       "    </tr>\n",
       "  </thead>\n",
       "  <tbody>\n",
       "    <tr>\n",
       "      <th>Brazil</th>\n",
       "      <td>Oxford/AstraZeneca, Sinovac</td>\n",
       "    </tr>\n",
       "    <tr>\n",
       "      <th>India</th>\n",
       "      <td>Covaxin, Oxford/AstraZeneca</td>\n",
       "    </tr>\n",
       "  </tbody>\n",
       "</table>\n",
       "</div>"
      ],
      "text/plain": [
       "                            Vaccine\n",
       "Brazil  Oxford/AstraZeneca, Sinovac\n",
       "India   Covaxin, Oxford/AstraZeneca"
      ]
     },
     "execution_count": 12,
     "metadata": {},
     "output_type": "execute_result"
    }
   ],
   "source": [
    "pd.DataFrame([df_br['vaccines'].unique(), df_in['vaccines'].unique()],columns=['Vaccine'],index=['Brazil','India'])"
   ]
  },
  {
   "cell_type": "markdown",
   "metadata": {
    "papermill": {
     "duration": 0.021861,
     "end_time": "2021-03-25T22:26:09.657217",
     "exception": false,
     "start_time": "2021-03-25T22:26:09.635356",
     "status": "completed"
    },
    "tags": []
   },
   "source": [
    "If we check the total vaccinations over time of those countries, we can clearly see that India has a higher absolute value of total vaccinations. But it's important to notice that India population is like 6 times bigger than Brazil population."
   ]
  },
  {
   "cell_type": "code",
   "execution_count": 13,
   "metadata": {
    "execution": {
     "iopub.execute_input": "2021-03-25T22:26:09.707273Z",
     "iopub.status.busy": "2021-03-25T22:26:09.706579Z",
     "iopub.status.idle": "2021-03-25T22:26:10.170825Z",
     "shell.execute_reply": "2021-03-25T22:26:10.170236Z"
    },
    "papermill": {
     "duration": 0.490075,
     "end_time": "2021-03-25T22:26:10.170988",
     "exception": false,
     "start_time": "2021-03-25T22:26:09.680913",
     "status": "completed"
    },
    "tags": []
   },
   "outputs": [
    {
     "data": {
      "text/plain": [
       "Text(0, 0.5, '')"
      ]
     },
     "execution_count": 13,
     "metadata": {},
     "output_type": "execute_result"
    },
    {
     "data": {
      "image/png": "[encoded data removed]",
      "text/plain": [
       "<Figure size 864x432 with 1 Axes>"
      ]
     },
     "metadata": {},
     "output_type": "display_data"
    }
   ],
   "source": [
    "fig, ax = plt.subplots(1,1, figsize=(12,6))\n",
    "\n",
    "g1 = sns.lineplot(x=df_in['date'],y=df_in['total_vaccinations'],color=india_palette[0])\n",
    "g1.fill_between(df_in['date'], 0, df_in['total_vaccinations'], color=india_palette[0], alpha=0.9)\n",
    "\n",
    "g2 = sns.lineplot(x=df_br['date'],y=df_br['total_vaccinations'],color=brazil_palette[0])\n",
    "g2.fill_between(df_br['date'], 0, df_br['total_vaccinations'], color=brazil_palette[0], alpha=0.9)\n",
    "\n",
    "\n",
    "for i in ['top', 'left', 'right','bottom']:\n",
    "    ax.spines[i].set_visible(False)\n",
    "    \n",
    "fig.text(0.1, 0.82, 'Absolute number of total immunizations in Brazil and India over time', \n",
    "       fontsize=14, fontweight='bold', fontfamily='serif',color='black')\n",
    "fig.text(0.18, 0.33, 'Brazil', \n",
    "       fontsize=14, fontweight='bold', fontfamily='serif',color=brazil_palette[0])\n",
    "fig.text(0.24, 0.33, 'vs', \n",
    "       fontsize=14, fontweight='bold', fontfamily='serif',color='black')\n",
    "fig.text(0.265, 0.33, 'India', \n",
    "       fontsize=14, fontweight='bold', fontfamily='serif',color=india_palette[0])\n",
    "\n",
    "ax.yaxis.tick_right()\n",
    "ax.tick_params(length=0)\n",
    "plt.xlabel('')\n",
    "plt.ylabel('')"
   ]
  },
  {
   "cell_type": "markdown",
   "metadata": {
    "papermill": {
     "duration": 0.023678,
     "end_time": "2021-03-25T22:26:10.219002",
     "exception": false,
     "start_time": "2021-03-25T22:26:10.195324",
     "status": "completed"
    },
    "tags": []
   },
   "source": [
    "Looking at the next chart (of daily vaccinations), can we conclude that India is doing a better job than Brazil?"
   ]
  },
  {
   "cell_type": "code",
   "execution_count": 14,
   "metadata": {
    "execution": {
     "iopub.execute_input": "2021-03-25T22:26:10.276214Z",
     "iopub.status.busy": "2021-03-25T22:26:10.275398Z",
     "iopub.status.idle": "2021-03-25T22:26:10.796876Z",
     "shell.execute_reply": "2021-03-25T22:26:10.795344Z"
    },
    "papermill": {
     "duration": 0.554349,
     "end_time": "2021-03-25T22:26:10.797106",
     "exception": false,
     "start_time": "2021-03-25T22:26:10.242757",
     "status": "completed"
    },
    "tags": []
   },
   "outputs": [
    {
     "data": {
      "text/plain": [
       "Text(0, 0.5, '')"
      ]
     },
     "execution_count": 14,
     "metadata": {},
     "output_type": "execute_result"
    },
    {
     "data": {
      "image/png": "[encoded data removed]",
      "text/plain": [
       "<Figure size 864x432 with 1 Axes>"
      ]
     },
     "metadata": {},
     "output_type": "display_data"
    }
   ],
   "source": [
    "fig, ax = plt.subplots(1,1, figsize=(12,6))\n",
    "\n",
    "g1 = sns.lineplot(x=df_in['date'],y=df_in['daily_vaccinations'],color=india_palette[0])\n",
    "g1.fill_between(df_in['date'], 0, df_in['daily_vaccinations'], color=india_palette[0], alpha=0.9)\n",
    "\n",
    "g2 = sns.lineplot(x=df_br['date'],y=df_br['daily_vaccinations'],color=brazil_palette[0])\n",
    "g2.fill_between(df_br['date'], 0, df_br['daily_vaccinations'], color=brazil_palette[0], alpha=0.9)\n",
    "\n",
    "fig.text(0.1, 0.82, 'Total amount of vaccines on a date in Brazil and India', \n",
    "       fontsize=14, fontweight='bold', fontfamily='serif',color='black')\n",
    "fig.text(0.18, 0.33, 'Brazil', \n",
    "       fontsize=14, fontweight='bold', fontfamily='serif',color=brazil_palette[0])\n",
    "fig.text(0.24, 0.33, 'vs', \n",
    "       fontsize=14, fontweight='bold', fontfamily='serif',color='black')\n",
    "fig.text(0.265, 0.33, 'India', \n",
    "       fontsize=14, fontweight='bold', fontfamily='serif',color=india_palette[0])\n",
    "\n",
    "for i in ['top', 'left', 'right','bottom']:\n",
    "    ax.spines[i].set_visible(False)\n",
    "\n",
    "ax.yaxis.tick_right()\n",
    "ax.tick_params(length=0)\n",
    "plt.xlabel('')\n",
    "plt.ylabel('')\n"
   ]
  },
  {
   "cell_type": "markdown",
   "metadata": {
    "papermill": {
     "duration": 0.031184,
     "end_time": "2021-03-25T22:26:10.863260",
     "exception": false,
     "start_time": "2021-03-25T22:26:10.832076",
     "status": "completed"
    },
    "tags": []
   },
   "source": [
    "What happens if we check the total vaccinations per hundred? Well, the lines switch sides. Even with India having a greater number of total vaccinations, Brazil got a higher relation between vaccination number and total population of the country."
   ]
  },
  {
   "cell_type": "code",
   "execution_count": 15,
   "metadata": {
    "execution": {
     "iopub.execute_input": "2021-03-25T22:26:11.013476Z",
     "iopub.status.busy": "2021-03-25T22:26:10.948542Z",
     "iopub.status.idle": "2021-03-25T22:26:11.347545Z",
     "shell.execute_reply": "2021-03-25T22:26:11.346805Z"
    },
    "papermill": {
     "duration": 0.456104,
     "end_time": "2021-03-25T22:26:11.347724",
     "exception": false,
     "start_time": "2021-03-25T22:26:10.891620",
     "status": "completed"
    },
    "tags": []
   },
   "outputs": [
    {
     "data": {
      "text/plain": [
       "Text(0, 0.5, '')"
      ]
     },
     "execution_count": 15,
     "metadata": {},
     "output_type": "execute_result"
    },
    {
     "data": {
      "image/png": "[encoded data removed]",
      "text/plain": [
       "<Figure size 864x432 with 1 Axes>"
      ]
     },
     "metadata": {},
     "output_type": "display_data"
    }
   ],
   "source": [
    "fig, ax = plt.subplots(1,1, figsize=(12,6))\n",
    "\n",
    "\n",
    "g1 = sns.lineplot(x=df_br['date'],y=df_br['total_vaccinations_per_hundred'],color=brazil_palette[0])\n",
    "g1.fill_between(df_br['date'], 0, df_br['total_vaccinations_per_hundred'], color=brazil_palette[0], alpha=0.9)\n",
    "\n",
    "g2 = sns.lineplot(x=df_in['date'],y=df_in['total_vaccinations_per_hundred'],color=india_palette[0])\n",
    "g2.fill_between(df_in['date'], 0, df_in['total_vaccinations_per_hundred'], color=india_palette[0], alpha=0.9)\n",
    "\n",
    "fig.text(0.1, 0.82, 'Ratio between vaccination number and total population in Brazil and India (%)', \n",
    "       fontsize=14, fontweight='bold', fontfamily='serif',color='black')\n",
    "\n",
    "for i in ['top', 'left', 'right','bottom']:\n",
    "    ax.spines[i].set_visible(False)\n",
    "\n",
    "fig.text(0.18, 0.33, 'Brazil', \n",
    "       fontsize=14, fontweight='bold', fontfamily='serif',color=brazil_palette[0])\n",
    "fig.text(0.24, 0.33, 'vs', \n",
    "       fontsize=14, fontweight='bold', fontfamily='serif',color='black')\n",
    "fig.text(0.265, 0.33, 'India', \n",
    "       fontsize=14, fontweight='bold', fontfamily='serif',color=india_palette[0])\n",
    "\n",
    "ax.yaxis.tick_right()\n",
    "ax.tick_params(length=0)\n",
    "plt.xlabel('')\n",
    "plt.ylabel('')"
   ]
  },
  {
   "cell_type": "markdown",
   "metadata": {
    "papermill": {
     "duration": 0.027247,
     "end_time": "2021-03-25T22:26:11.402456",
     "exception": false,
     "start_time": "2021-03-25T22:26:11.375209",
     "status": "completed"
    },
    "tags": []
   },
   "source": [
    "In the chart below, you can check the comparison (between the two countries) of the highest observed percentage of people vaccinated per hundred."
   ]
  },
  {
   "cell_type": "code",
   "execution_count": 16,
   "metadata": {
    "execution": {
     "iopub.execute_input": "2021-03-25T22:26:11.473010Z",
     "iopub.status.busy": "2021-03-25T22:26:11.472099Z",
     "iopub.status.idle": "2021-03-25T22:26:11.598391Z",
     "shell.execute_reply": "2021-03-25T22:26:11.597655Z"
    },
    "papermill": {
     "duration": 0.167646,
     "end_time": "2021-03-25T22:26:11.598652",
     "exception": false,
     "start_time": "2021-03-25T22:26:11.431006",
     "status": "completed"
    },
    "tags": []
   },
   "outputs": [
    {
     "data": {
      "text/plain": [
       "[[Text(0, 0.0, ''),\n",
       "  Text(0, 1.0, ''),\n",
       "  Text(0, 2.0, ''),\n",
       "  Text(0, 3.0, ''),\n",
       "  Text(0, 4.0, ''),\n",
       "  Text(0, 5.0, ''),\n",
       "  Text(0, 6.0, '')],\n",
       " [Text(0, 0, ''), Text(1, 0, '')]]"
      ]
     },
     "execution_count": 16,
     "metadata": {},
     "output_type": "execute_result"
    },
    {
     "data": {
      "image/png": "[encoded data removed]",
      "text/plain": [
       "<Figure size 432x288 with 1 Axes>"
      ]
     },
     "metadata": {},
     "output_type": "display_data"
    }
   ],
   "source": [
    "y = [df_br['people_vaccinated_per_hundred'].max(),\n",
    "     df_in['people_vaccinated_per_hundred'].max()]\n",
    "x = ['Brazil','India']\n",
    "  \n",
    "g=sns.barplot(x,y,palette=[brazil_palette[0],india_palette[0]])\n",
    "\n",
    "g.text(-0.5, 6, 'Max percentage of people vaccinated in Brazil and India', \n",
    "       fontsize=14, fontweight='bold', fontfamily='Serif',color='black')\n",
    "\n",
    "for i in ['top', 'left', 'right','bottom']:\n",
    "    g.spines[i].set_visible(False)\n",
    "\n",
    "for i in range(2):\n",
    "    g.annotate(f'{round(y[i])}%', \n",
    "                xy=(i,(y[i]/2)),\n",
    "                ha = 'center', va='center',fontsize=40, fontweight='bold', \n",
    "                fontfamily='Serif', color='white')\n",
    "    g.annotate(f'{x[i]}', \n",
    "                xy=(i,y[i]/2-0.8),\n",
    "                ha = 'center', va='center',fontsize=12, fontweight='bold', \n",
    "                fontfamily='Serif', color='white')\n",
    "    \n",
    "for i in ['top', 'left', 'right','bottom']:\n",
    "    g.spines[i].set_visible(False)\n",
    "\n",
    "g.set(yticklabels=[],xticklabels=[])"
   ]
  },
  {
   "cell_type": "markdown",
   "metadata": {
    "papermill": {
     "duration": 0.028143,
     "end_time": "2021-03-25T22:26:11.656301",
     "exception": false,
     "start_time": "2021-03-25T22:26:11.628158",
     "status": "completed"
    },
    "tags": []
   },
   "source": [
    "Now we have a graph similar to the previous one, but with information of people **fully** vaccinated per hundred."
   ]
  },
  {
   "cell_type": "code",
   "execution_count": 17,
   "metadata": {
    "execution": {
     "iopub.execute_input": "2021-03-25T22:26:11.726471Z",
     "iopub.status.busy": "2021-03-25T22:26:11.725415Z",
     "iopub.status.idle": "2021-03-25T22:26:11.856230Z",
     "shell.execute_reply": "2021-03-25T22:26:11.855510Z"
    },
    "papermill": {
     "duration": 0.171285,
     "end_time": "2021-03-25T22:26:11.856381",
     "exception": false,
     "start_time": "2021-03-25T22:26:11.685096",
     "status": "completed"
    },
    "tags": []
   },
   "outputs": [
    {
     "data": {
      "text/plain": [
       "[[Text(0, 0.0, ''),\n",
       "  Text(0, 0.25, ''),\n",
       "  Text(0, 0.5, ''),\n",
       "  Text(0, 0.75, ''),\n",
       "  Text(0, 1.0, ''),\n",
       "  Text(0, 1.25, ''),\n",
       "  Text(0, 1.5, ''),\n",
       "  Text(0, 1.75, ''),\n",
       "  Text(0, 2.0, '')],\n",
       " [Text(0, 0, ''), Text(1, 0, '')]]"
      ]
     },
     "execution_count": 17,
     "metadata": {},
     "output_type": "execute_result"
    },
    {
     "data": {
      "image/png": "[encoded data removed]",
      "text/plain": [
       "<Figure size 432x288 with 1 Axes>"
      ]
     },
     "metadata": {},
     "output_type": "display_data"
    }
   ],
   "source": [
    "y = [df_br['people_fully_vaccinated_per_hundred'].max(),\n",
    "     df_in['people_fully_vaccinated_per_hundred'].max()]\n",
    "x = ['Brazil','India']\n",
    "\n",
    "g=sns.barplot(x,y,palette=[brazil_palette[0],india_palette[0]])\n",
    "\n",
    "g.text(-0.5,2, 'Max percentage of people fully vaccinated in Brazil and India', \n",
    "       fontsize=14, fontweight='bold', fontfamily='Serif',color='black')\n",
    "\n",
    "for i in range(2):\n",
    "    g.annotate(f'{round(y[i])}%', \n",
    "                xy=(i,(y[i]/2)+0.07),\n",
    "                ha = 'center', va='center',fontsize=40, fontweight='bold', \n",
    "                fontfamily='Serif', color='white')\n",
    "    g.annotate(f'{x[i]}', \n",
    "                xy=(i,y[i]/2-0.22),\n",
    "                ha = 'center', va='center',fontsize=12, fontweight='bold', \n",
    "                fontfamily='Serif', color='white')\n",
    "    \n",
    "for i in ['top', 'left', 'right','bottom']:\n",
    "    g.spines[i].set_visible(False)\n",
    "\n",
    "g.set(yticklabels=[],xticklabels=[])"
   ]
  },
  {
   "cell_type": "markdown",
   "metadata": {
    "papermill": {
     "duration": 0.029375,
     "end_time": "2021-03-25T22:26:11.916303",
     "exception": false,
     "start_time": "2021-03-25T22:26:11.886928",
     "status": "completed"
    },
    "tags": []
   },
   "source": [
    "Our visualizations made us realize that although India has some higher absolute numbers, Brazil is doing a better job of vaccination coverage.\n",
    "\n"
   ]
  }
 ],
 "metadata": {
  "kernelspec": {
   "display_name": "Python 3",
   "language": "python",
   "name": "python3"
  },
  "language_info": {
   "codemirror_mode": {
    "name": "ipython",
    "version": 3
   },
   "file_extension": ".py",
   "mimetype": "text/x-python",
   "name": "python",
   "nbconvert_exporter": "python",
   "pygments_lexer": "ipython3",
   "version": "3.8.6"
  },
  "papermill": {
   "default_parameters": {},
   "duration": 12.150614,
   "end_time": "2021-03-25T22:26:12.757870",
   "environment_variables": {},
   "exception": null,
   "input_path": "__notebook__.ipynb",
   "output_path": "__notebook__.ipynb",
   "parameters": {},
   "start_time": "2021-03-25T22:26:00.607256",
   "version": "2.2.2"
  }
 },
 "nbformat": 4,
 "nbformat_minor": 4
}
